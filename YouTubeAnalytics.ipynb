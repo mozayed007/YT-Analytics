{
 "cells": [
  {
   "cell_type": "code",
   "execution_count": 22,
   "metadata": {},
   "outputs": [],
   "source": [
    "import pandas as pd\n",
    "import numpy as np\n",
    "import matplotlib.pyplot as plt\n",
    "import os\n"
   ]
  },
  {
   "cell_type": "code",
   "execution_count": 23,
   "metadata": {},
   "outputs": [],
   "source": [
    "channels_df = pd.read_csv(r\"Datasets/channels.csv\")\n",
    "playlists_df = pd.read_csv(r'Datasets/playlists.csv')\n",
    "videos_df = pd.read_csv(r'Datasets/videos.csv')"
   ]
  },
  {
   "cell_type": "code",
   "execution_count": 24,
   "metadata": {},
   "outputs": [
    {
     "data": {
      "text/plain": [
       "channel_id          0\n",
       "channel_title       0\n",
       "description         1\n",
       "published_at        0\n",
       "thumbnail_url       0\n",
       "country             0\n",
       "playlist_likes      8\n",
       "playlist_uploads    0\n",
       "view_count          0\n",
       "subscriber_count    0\n",
       "video_count         0\n",
       "topic_ids           0\n",
       "dtype: int64"
      ]
     },
     "execution_count": 24,
     "metadata": {},
     "output_type": "execute_result"
    }
   ],
   "source": [
    "channels_df.isnull().sum()"
   ]
  },
  {
   "cell_type": "code",
   "execution_count": 25,
   "metadata": {},
   "outputs": [
    {
     "data": {
      "text/plain": [
       "playlist_id          0\n",
       "playlist_title       0\n",
       "published_at         0\n",
       "video_count          0\n",
       "playlist_duration    0\n",
       "dtype: int64"
      ]
     },
     "execution_count": 25,
     "metadata": {},
     "output_type": "execute_result"
    }
   ],
   "source": [
    "playlists_df.isnull().sum()"
   ]
  },
  {
   "cell_type": "code",
   "execution_count": 26,
   "metadata": {},
   "outputs": [
    {
     "data": {
      "text/plain": [
       "video_id                0\n",
       "video_title             0\n",
       "published_at            0\n",
       "channel_id              0\n",
       "channel_title           0\n",
       "video_duration          0\n",
       "video_view_count        0\n",
       "video_likes             0\n",
       "video_dislikes          0\n",
       "video_comments          0\n",
       "video_category_id       0\n",
       "video_live_streaming    0\n",
       "dtype: int64"
      ]
     },
     "execution_count": 26,
     "metadata": {},
     "output_type": "execute_result"
    }
   ],
   "source": [
    "\n",
    "videos_df.isnull().sum()"
   ]
  },
  {
   "cell_type": "code",
   "execution_count": 27,
   "metadata": {},
   "outputs": [
    {
     "data": {
      "text/html": [
       "<div>\n",
       "<style scoped>\n",
       "    .dataframe tbody tr th:only-of-type {\n",
       "        vertical-align: middle;\n",
       "    }\n",
       "\n",
       "    .dataframe tbody tr th {\n",
       "        vertical-align: top;\n",
       "    }\n",
       "\n",
       "    .dataframe thead th {\n",
       "        text-align: right;\n",
       "    }\n",
       "</style>\n",
       "<table border=\"1\" class=\"dataframe\">\n",
       "  <thead>\n",
       "    <tr style=\"text-align: right;\">\n",
       "      <th></th>\n",
       "      <th>channel_id</th>\n",
       "      <th>channel_title</th>\n",
       "      <th>description</th>\n",
       "      <th>published_at</th>\n",
       "      <th>thumbnail_url</th>\n",
       "      <th>country</th>\n",
       "      <th>playlist_likes</th>\n",
       "      <th>playlist_uploads</th>\n",
       "      <th>view_count</th>\n",
       "      <th>subscriber_count</th>\n",
       "      <th>video_count</th>\n",
       "      <th>topic_ids</th>\n",
       "    </tr>\n",
       "  </thead>\n",
       "  <tbody>\n",
       "    <tr>\n",
       "      <th>0</th>\n",
       "      <td>UCX6OQ3DkcsbYNE6H8uQQuVA</td>\n",
       "      <td>MrBeast</td>\n",
       "      <td>SUBSCRIBE FOR A COOKIE!\\nAccomplishments\\n- Ra...</td>\n",
       "      <td>2012-02-20T00:43:50Z</td>\n",
       "      <td>https://yt3.ggpht.com/ytc/AGIKgqNRr7IEdQ7TplsO...</td>\n",
       "      <td>US</td>\n",
       "      <td>NaN</td>\n",
       "      <td>UUX6OQ3DkcsbYNE6H8uQQuVA</td>\n",
       "      <td>27236343686</td>\n",
       "      <td>160000000</td>\n",
       "      <td>739</td>\n",
       "      <td>['/m/07c1v', '/m/02jjt', '/m/019_rr']</td>\n",
       "    </tr>\n",
       "    <tr>\n",
       "      <th>1</th>\n",
       "      <td>UCIPPMRA040LQr5QPyJEbmXA</td>\n",
       "      <td>MrBeast Gaming</td>\n",
       "      <td>MrBeast Gaming - SUBSCRIBE OR ELSE</td>\n",
       "      <td>2020-04-07T18:46:13.80072Z</td>\n",
       "      <td>https://yt3.ggpht.com/ytc/AGIKgqMsDw267EtHsB0v...</td>\n",
       "      <td>US</td>\n",
       "      <td>NaN</td>\n",
       "      <td>UUIPPMRA040LQr5QPyJEbmXA</td>\n",
       "      <td>5789793494</td>\n",
       "      <td>33300000</td>\n",
       "      <td>139</td>\n",
       "      <td>['/m/0bzvm2', '/m/02ntfj', '/m/0403l3g', '/m/0...</td>\n",
       "    </tr>\n",
       "    <tr>\n",
       "      <th>2</th>\n",
       "      <td>UCUaT_39o1x6qWjz7K2pWcgw</td>\n",
       "      <td>Beast Reacts</td>\n",
       "      <td>SUBSCRIBE FOR A COOKIE\\nMrBeast and Chris reac...</td>\n",
       "      <td>2016-04-24T20:43:46Z</td>\n",
       "      <td>https://yt3.ggpht.com/ytc/AGIKgqPCyU7sSAwA5ZUp...</td>\n",
       "      <td>US</td>\n",
       "      <td>NaN</td>\n",
       "      <td>UUUaT_39o1x6qWjz7K2pWcgw</td>\n",
       "      <td>4172163445</td>\n",
       "      <td>25600000</td>\n",
       "      <td>241</td>\n",
       "      <td>['/m/02jjt', '/m/07c1v', '/m/019_rr']</td>\n",
       "    </tr>\n",
       "    <tr>\n",
       "      <th>3</th>\n",
       "      <td>UC4-79UOlP48-QNGgCko5p2g</td>\n",
       "      <td>MrBeast 2</td>\n",
       "      <td>my second channel for other videos and shorts ...</td>\n",
       "      <td>2020-08-21T19:46:50.808253Z</td>\n",
       "      <td>https://yt3.ggpht.com/J7ANRfVmkOdP44qDLCaPuUtA...</td>\n",
       "      <td>US</td>\n",
       "      <td>NaN</td>\n",
       "      <td>UU4-79UOlP48-QNGgCko5p2g</td>\n",
       "      <td>4325499732</td>\n",
       "      <td>25900000</td>\n",
       "      <td>115</td>\n",
       "      <td>['/m/02jjt', '/m/019_rr']</td>\n",
       "    </tr>\n",
       "    <tr>\n",
       "      <th>4</th>\n",
       "      <td>UC-lHJZR3Gqxm24_Vd_AJ5Yw</td>\n",
       "      <td>PewDiePie</td>\n",
       "      <td>I make videos.</td>\n",
       "      <td>2010-04-29T10:54:00Z</td>\n",
       "      <td>https://yt3.ggpht.com/5oUY3tashyxfqsjO5SGhjT4d...</td>\n",
       "      <td>JP</td>\n",
       "      <td>NaN</td>\n",
       "      <td>UU-lHJZR3Gqxm24_Vd_AJ5Yw</td>\n",
       "      <td>29020143393</td>\n",
       "      <td>111000000</td>\n",
       "      <td>4714</td>\n",
       "      <td>['/m/025zzc', '/m/02ntfj', '/m/0bzvm2', '/m/04...</td>\n",
       "    </tr>\n",
       "    <tr>\n",
       "      <th>5</th>\n",
       "      <td>UCBJycsmduvYEL83R_U4JriQ</td>\n",
       "      <td>Marques Brownlee</td>\n",
       "      <td>MKBHD: Quality Tech Videos | YouTuber | Geek |...</td>\n",
       "      <td>2008-03-21T15:25:54Z</td>\n",
       "      <td>https://yt3.ggpht.com/lkH37D712tiyphnu0Id0D5Mw...</td>\n",
       "      <td>US</td>\n",
       "      <td>NaN</td>\n",
       "      <td>UUBJycsmduvYEL83R_U4JriQ</td>\n",
       "      <td>3561139193</td>\n",
       "      <td>17100000</td>\n",
       "      <td>1556</td>\n",
       "      <td>['/m/019_rr', '/m/07c1v']</td>\n",
       "    </tr>\n",
       "    <tr>\n",
       "      <th>6</th>\n",
       "      <td>UCmDTrq0LNgPodDOFZiSbsww</td>\n",
       "      <td>xQc</td>\n",
       "      <td>My personal YouTube channel. Guides and highli...</td>\n",
       "      <td>2015-03-08T22:03:48Z</td>\n",
       "      <td>https://yt3.ggpht.com/hpM847jO7S4k41eWMFSlRc1N...</td>\n",
       "      <td>CA</td>\n",
       "      <td>NaN</td>\n",
       "      <td>UUmDTrq0LNgPodDOFZiSbsww</td>\n",
       "      <td>1527670180</td>\n",
       "      <td>2280000</td>\n",
       "      <td>4875</td>\n",
       "      <td>['/m/02ntfj', '/m/0bzvm2', '/m/025zzc', '/m/04...</td>\n",
       "    </tr>\n",
       "    <tr>\n",
       "      <th>7</th>\n",
       "      <td>UCiGm_E4ZwYSHV3bcW1pnSeQ</td>\n",
       "      <td>Billie Eilish</td>\n",
       "      <td>NaN</td>\n",
       "      <td>2013-02-06T23:21:04Z</td>\n",
       "      <td>https://yt3.ggpht.com/ytc/AGIKgqOE2odAevc22sdC...</td>\n",
       "      <td>US</td>\n",
       "      <td>NaN</td>\n",
       "      <td>UUiGm_E4ZwYSHV3bcW1pnSeQ</td>\n",
       "      <td>13510876845</td>\n",
       "      <td>47800000</td>\n",
       "      <td>54</td>\n",
       "      <td>['/m/064t9', '/m/05rwpb', '/m/04rlf']</td>\n",
       "    </tr>\n",
       "  </tbody>\n",
       "</table>\n",
       "</div>"
      ],
      "text/plain": [
       "                 channel_id     channel_title  \\\n",
       "0  UCX6OQ3DkcsbYNE6H8uQQuVA           MrBeast   \n",
       "1  UCIPPMRA040LQr5QPyJEbmXA    MrBeast Gaming   \n",
       "2  UCUaT_39o1x6qWjz7K2pWcgw      Beast Reacts   \n",
       "3  UC4-79UOlP48-QNGgCko5p2g         MrBeast 2   \n",
       "4  UC-lHJZR3Gqxm24_Vd_AJ5Yw         PewDiePie   \n",
       "5  UCBJycsmduvYEL83R_U4JriQ  Marques Brownlee   \n",
       "6  UCmDTrq0LNgPodDOFZiSbsww               xQc   \n",
       "7  UCiGm_E4ZwYSHV3bcW1pnSeQ     Billie Eilish   \n",
       "\n",
       "                                         description  \\\n",
       "0  SUBSCRIBE FOR A COOKIE!\\nAccomplishments\\n- Ra...   \n",
       "1                 MrBeast Gaming - SUBSCRIBE OR ELSE   \n",
       "2  SUBSCRIBE FOR A COOKIE\\nMrBeast and Chris reac...   \n",
       "3  my second channel for other videos and shorts ...   \n",
       "4                                     I make videos.   \n",
       "5  MKBHD: Quality Tech Videos | YouTuber | Geek |...   \n",
       "6  My personal YouTube channel. Guides and highli...   \n",
       "7                                                NaN   \n",
       "\n",
       "                  published_at  \\\n",
       "0         2012-02-20T00:43:50Z   \n",
       "1   2020-04-07T18:46:13.80072Z   \n",
       "2         2016-04-24T20:43:46Z   \n",
       "3  2020-08-21T19:46:50.808253Z   \n",
       "4         2010-04-29T10:54:00Z   \n",
       "5         2008-03-21T15:25:54Z   \n",
       "6         2015-03-08T22:03:48Z   \n",
       "7         2013-02-06T23:21:04Z   \n",
       "\n",
       "                                       thumbnail_url country  playlist_likes  \\\n",
       "0  https://yt3.ggpht.com/ytc/AGIKgqNRr7IEdQ7TplsO...      US             NaN   \n",
       "1  https://yt3.ggpht.com/ytc/AGIKgqMsDw267EtHsB0v...      US             NaN   \n",
       "2  https://yt3.ggpht.com/ytc/AGIKgqPCyU7sSAwA5ZUp...      US             NaN   \n",
       "3  https://yt3.ggpht.com/J7ANRfVmkOdP44qDLCaPuUtA...      US             NaN   \n",
       "4  https://yt3.ggpht.com/5oUY3tashyxfqsjO5SGhjT4d...      JP             NaN   \n",
       "5  https://yt3.ggpht.com/lkH37D712tiyphnu0Id0D5Mw...      US             NaN   \n",
       "6  https://yt3.ggpht.com/hpM847jO7S4k41eWMFSlRc1N...      CA             NaN   \n",
       "7  https://yt3.ggpht.com/ytc/AGIKgqOE2odAevc22sdC...      US             NaN   \n",
       "\n",
       "           playlist_uploads   view_count  subscriber_count  video_count  \\\n",
       "0  UUX6OQ3DkcsbYNE6H8uQQuVA  27236343686         160000000          739   \n",
       "1  UUIPPMRA040LQr5QPyJEbmXA   5789793494          33300000          139   \n",
       "2  UUUaT_39o1x6qWjz7K2pWcgw   4172163445          25600000          241   \n",
       "3  UU4-79UOlP48-QNGgCko5p2g   4325499732          25900000          115   \n",
       "4  UU-lHJZR3Gqxm24_Vd_AJ5Yw  29020143393         111000000         4714   \n",
       "5  UUBJycsmduvYEL83R_U4JriQ   3561139193          17100000         1556   \n",
       "6  UUmDTrq0LNgPodDOFZiSbsww   1527670180           2280000         4875   \n",
       "7  UUiGm_E4ZwYSHV3bcW1pnSeQ  13510876845          47800000           54   \n",
       "\n",
       "                                           topic_ids  \n",
       "0              ['/m/07c1v', '/m/02jjt', '/m/019_rr']  \n",
       "1  ['/m/0bzvm2', '/m/02ntfj', '/m/0403l3g', '/m/0...  \n",
       "2              ['/m/02jjt', '/m/07c1v', '/m/019_rr']  \n",
       "3                          ['/m/02jjt', '/m/019_rr']  \n",
       "4  ['/m/025zzc', '/m/02ntfj', '/m/0bzvm2', '/m/04...  \n",
       "5                          ['/m/019_rr', '/m/07c1v']  \n",
       "6  ['/m/02ntfj', '/m/0bzvm2', '/m/025zzc', '/m/04...  \n",
       "7              ['/m/064t9', '/m/05rwpb', '/m/04rlf']  "
      ]
     },
     "execution_count": 27,
     "metadata": {},
     "output_type": "execute_result"
    }
   ],
   "source": [
    "channels_df"
   ]
  },
  {
   "cell_type": "code",
   "execution_count": 28,
   "metadata": {},
   "outputs": [
    {
     "data": {
      "text/html": [
       "<div>\n",
       "<style scoped>\n",
       "    .dataframe tbody tr th:only-of-type {\n",
       "        vertical-align: middle;\n",
       "    }\n",
       "\n",
       "    .dataframe tbody tr th {\n",
       "        vertical-align: top;\n",
       "    }\n",
       "\n",
       "    .dataframe thead th {\n",
       "        text-align: right;\n",
       "    }\n",
       "</style>\n",
       "<table border=\"1\" class=\"dataframe\">\n",
       "  <thead>\n",
       "    <tr style=\"text-align: right;\">\n",
       "      <th></th>\n",
       "      <th>playlist_id</th>\n",
       "      <th>playlist_title</th>\n",
       "      <th>published_at</th>\n",
       "      <th>video_count</th>\n",
       "      <th>playlist_duration</th>\n",
       "    </tr>\n",
       "  </thead>\n",
       "  <tbody>\n",
       "    <tr>\n",
       "      <th>69</th>\n",
       "      <td>PLKeR9CeyAc9brDTtmz6DcCQpy5mA6m9AK</td>\n",
       "      <td>xQc GTA Roleplay</td>\n",
       "      <td>2021-02-07T02:46:36Z</td>\n",
       "      <td>94</td>\n",
       "      <td>443590.0</td>\n",
       "    </tr>\n",
       "    <tr>\n",
       "      <th>61</th>\n",
       "      <td>PLKeR9CeyAc9Zd6CkWctChIsGfmOQ8I9Wa</td>\n",
       "      <td>xQc Plays Elden Ring</td>\n",
       "      <td>2022-03-03T17:45:10Z</td>\n",
       "      <td>8</td>\n",
       "      <td>146027.0</td>\n",
       "    </tr>\n",
       "    <tr>\n",
       "      <th>21</th>\n",
       "      <td>PLYH8WvNV1YElE78ql2vvcOURM1tve_njn</td>\n",
       "      <td>Members Only Videos / Livestreams</td>\n",
       "      <td>2020-06-04T13:21:37Z</td>\n",
       "      <td>182</td>\n",
       "      <td>1830875.0</td>\n",
       "    </tr>\n",
       "    <tr>\n",
       "      <th>72</th>\n",
       "      <td>PLsCPTY_MPoPaVzVYbgiru7ZVuQN0ZnETa</td>\n",
       "      <td>Billie Eilish - Guitar Songs</td>\n",
       "      <td>2022-07-21T16:11:43Z</td>\n",
       "      <td>4</td>\n",
       "      <td>972.0</td>\n",
       "    </tr>\n",
       "    <tr>\n",
       "      <th>8</th>\n",
       "      <td>PL8vyDhstykLlsx_5U4sfyGgguZyzFsyZr</td>\n",
       "      <td>Amazing People</td>\n",
       "      <td>2022-08-25T20:30:37Z</td>\n",
       "      <td>2</td>\n",
       "      <td>987.0</td>\n",
       "    </tr>\n",
       "    <tr>\n",
       "      <th>37</th>\n",
       "      <td>PLBsP89CPrMeP1Xi1zQX87mq3mhkvFHWZ4</td>\n",
       "      <td>Retro Tech</td>\n",
       "      <td>2019-04-18T21:46:04Z</td>\n",
       "      <td>1</td>\n",
       "      <td>1429.0</td>\n",
       "    </tr>\n",
       "    <tr>\n",
       "      <th>27</th>\n",
       "      <td>PLYH8WvNV1YEnLCzUDWueIZQXDNhqLKywk</td>\n",
       "      <td>Minecraft The Series</td>\n",
       "      <td>2019-08-11T11:35:59Z</td>\n",
       "      <td>45</td>\n",
       "      <td>66029.0</td>\n",
       "    </tr>\n",
       "    <tr>\n",
       "      <th>0</th>\n",
       "      <td>PLoSWVnSA9vG_gqzoqHqUT69bhO4vguFBX</td>\n",
       "      <td>$1 vs $1,000,000</td>\n",
       "      <td>2023-04-02T01:23:01Z</td>\n",
       "      <td>3</td>\n",
       "      <td>2568.0</td>\n",
       "    </tr>\n",
       "    <tr>\n",
       "      <th>68</th>\n",
       "      <td>PLKeR9CeyAc9YiTa5wtGkQA7ciUOevO9xL</td>\n",
       "      <td>Pierre Paul GTA Roleplay</td>\n",
       "      <td>2021-05-06T19:03:33Z</td>\n",
       "      <td>11</td>\n",
       "      <td>24084.0</td>\n",
       "    </tr>\n",
       "    <tr>\n",
       "      <th>22</th>\n",
       "      <td>PLYH8WvNV1YEkRR6peiTWZfIRUglGJBQV5</td>\n",
       "      <td>Half Life (3) Alyx</td>\n",
       "      <td>2020-03-24T20:22:54Z</td>\n",
       "      <td>6</td>\n",
       "      <td>27889.0</td>\n",
       "    </tr>\n",
       "  </tbody>\n",
       "</table>\n",
       "</div>"
      ],
      "text/plain": [
       "                           playlist_id                     playlist_title  \\\n",
       "69  PLKeR9CeyAc9brDTtmz6DcCQpy5mA6m9AK                   xQc GTA Roleplay   \n",
       "61  PLKeR9CeyAc9Zd6CkWctChIsGfmOQ8I9Wa               xQc Plays Elden Ring   \n",
       "21  PLYH8WvNV1YElE78ql2vvcOURM1tve_njn  Members Only Videos / Livestreams   \n",
       "72  PLsCPTY_MPoPaVzVYbgiru7ZVuQN0ZnETa       Billie Eilish - Guitar Songs   \n",
       "8   PL8vyDhstykLlsx_5U4sfyGgguZyzFsyZr                     Amazing People   \n",
       "37  PLBsP89CPrMeP1Xi1zQX87mq3mhkvFHWZ4                         Retro Tech   \n",
       "27  PLYH8WvNV1YEnLCzUDWueIZQXDNhqLKywk               Minecraft The Series   \n",
       "0   PLoSWVnSA9vG_gqzoqHqUT69bhO4vguFBX                   $1 vs $1,000,000   \n",
       "68  PLKeR9CeyAc9YiTa5wtGkQA7ciUOevO9xL           Pierre Paul GTA Roleplay   \n",
       "22  PLYH8WvNV1YEkRR6peiTWZfIRUglGJBQV5                 Half Life (3) Alyx   \n",
       "\n",
       "            published_at  video_count  playlist_duration  \n",
       "69  2021-02-07T02:46:36Z           94           443590.0  \n",
       "61  2022-03-03T17:45:10Z            8           146027.0  \n",
       "21  2020-06-04T13:21:37Z          182          1830875.0  \n",
       "72  2022-07-21T16:11:43Z            4              972.0  \n",
       "8   2022-08-25T20:30:37Z            2              987.0  \n",
       "37  2019-04-18T21:46:04Z            1             1429.0  \n",
       "27  2019-08-11T11:35:59Z           45            66029.0  \n",
       "0   2023-04-02T01:23:01Z            3             2568.0  \n",
       "68  2021-05-06T19:03:33Z           11            24084.0  \n",
       "22  2020-03-24T20:22:54Z            6            27889.0  "
      ]
     },
     "execution_count": 28,
     "metadata": {},
     "output_type": "execute_result"
    }
   ],
   "source": [
    "playlists_df.sample(10)"
   ]
  },
  {
   "cell_type": "code",
   "execution_count": 29,
   "metadata": {},
   "outputs": [
    {
     "data": {
      "text/html": [
       "<div>\n",
       "<style scoped>\n",
       "    .dataframe tbody tr th:only-of-type {\n",
       "        vertical-align: middle;\n",
       "    }\n",
       "\n",
       "    .dataframe tbody tr th {\n",
       "        vertical-align: top;\n",
       "    }\n",
       "\n",
       "    .dataframe thead th {\n",
       "        text-align: right;\n",
       "    }\n",
       "</style>\n",
       "<table border=\"1\" class=\"dataframe\">\n",
       "  <thead>\n",
       "    <tr style=\"text-align: right;\">\n",
       "      <th></th>\n",
       "      <th>video_id</th>\n",
       "      <th>video_title</th>\n",
       "      <th>published_at</th>\n",
       "      <th>channel_id</th>\n",
       "      <th>channel_title</th>\n",
       "      <th>video_duration</th>\n",
       "      <th>video_view_count</th>\n",
       "      <th>video_likes</th>\n",
       "      <th>video_dislikes</th>\n",
       "      <th>video_comments</th>\n",
       "      <th>video_category_id</th>\n",
       "      <th>video_live_streaming</th>\n",
       "    </tr>\n",
       "  </thead>\n",
       "  <tbody>\n",
       "    <tr>\n",
       "      <th>361</th>\n",
       "      <td>Sjw0eGi-FAU</td>\n",
       "      <td>Billie Eilish - No Time To Die (Live From Life...</td>\n",
       "      <td>2021-09-28T15:00:30Z</td>\n",
       "      <td>UCiGm_E4ZwYSHV3bcW1pnSeQ</td>\n",
       "      <td>Billie Eilish</td>\n",
       "      <td>PT4M</td>\n",
       "      <td>2720513</td>\n",
       "      <td>186417</td>\n",
       "      <td>0</td>\n",
       "      <td>7189</td>\n",
       "      <td>10</td>\n",
       "      <td>{'actual_start_time': None, 'actual_end_time':...</td>\n",
       "    </tr>\n",
       "    <tr>\n",
       "      <th>246</th>\n",
       "      <td>ROkXM3csNWY</td>\n",
       "      <td>The Last (and First) Folding Phone!</td>\n",
       "      <td>2019-07-20T21:56:56Z</td>\n",
       "      <td>UCBJycsmduvYEL83R_U4JriQ</td>\n",
       "      <td>Marques Brownlee</td>\n",
       "      <td>PT9M17S</td>\n",
       "      <td>9345576</td>\n",
       "      <td>158920</td>\n",
       "      <td>0</td>\n",
       "      <td>9018</td>\n",
       "      <td>28</td>\n",
       "      <td>{'actual_start_time': None, 'actual_end_time':...</td>\n",
       "    </tr>\n",
       "    <tr>\n",
       "      <th>7</th>\n",
       "      <td>lglIQkCHO0g</td>\n",
       "      <td>Do Men Lie About Their Height?</td>\n",
       "      <td>2023-02-14T21:00:14Z</td>\n",
       "      <td>UCX6OQ3DkcsbYNE6H8uQQuVA</td>\n",
       "      <td>MrBeast</td>\n",
       "      <td>PT47S</td>\n",
       "      <td>170685772</td>\n",
       "      <td>9538513</td>\n",
       "      <td>0</td>\n",
       "      <td>20498</td>\n",
       "      <td>24</td>\n",
       "      <td>{'actual_start_time': None, 'actual_end_time':...</td>\n",
       "    </tr>\n",
       "    <tr>\n",
       "      <th>262</th>\n",
       "      <td>C4sAUc_ZGMY</td>\n",
       "      <td>iPhone 13 Event Reaction: Everything New!</td>\n",
       "      <td>2021-09-15T01:17:57Z</td>\n",
       "      <td>UCBJycsmduvYEL83R_U4JriQ</td>\n",
       "      <td>Marques Brownlee</td>\n",
       "      <td>PT12M24S</td>\n",
       "      <td>8097502</td>\n",
       "      <td>253165</td>\n",
       "      <td>0</td>\n",
       "      <td>17627</td>\n",
       "      <td>28</td>\n",
       "      <td>{'actual_start_time': None, 'actual_end_time':...</td>\n",
       "    </tr>\n",
       "    <tr>\n",
       "      <th>351</th>\n",
       "      <td>6360FasOvdg</td>\n",
       "      <td>Billie Eilish - Happier Than Ever (Jimmy Kimme...</td>\n",
       "      <td>2021-10-15T05:14:23Z</td>\n",
       "      <td>UCiGm_E4ZwYSHV3bcW1pnSeQ</td>\n",
       "      <td>Billie Eilish</td>\n",
       "      <td>PT5M7S</td>\n",
       "      <td>4069346</td>\n",
       "      <td>251980</td>\n",
       "      <td>0</td>\n",
       "      <td>7709</td>\n",
       "      <td>10</td>\n",
       "      <td>{'actual_start_time': None, 'actual_end_time':...</td>\n",
       "    </tr>\n",
       "    <tr>\n",
       "      <th>68</th>\n",
       "      <td>Zi2j4tSZiWM</td>\n",
       "      <td>$10,000 World Height Jump Challenge!</td>\n",
       "      <td>2020-07-19T17:00:43Z</td>\n",
       "      <td>UCIPPMRA040LQr5QPyJEbmXA</td>\n",
       "      <td>MrBeast Gaming</td>\n",
       "      <td>PT10M12S</td>\n",
       "      <td>50490327</td>\n",
       "      <td>974324</td>\n",
       "      <td>0</td>\n",
       "      <td>22068</td>\n",
       "      <td>20</td>\n",
       "      <td>{'actual_start_time': None, 'actual_end_time':...</td>\n",
       "    </tr>\n",
       "    <tr>\n",
       "      <th>356</th>\n",
       "      <td>TZP885KZCtQ</td>\n",
       "      <td>Billie Eilish - come out and play (LIVE FROM T...</td>\n",
       "      <td>2019-12-19T22:04:37Z</td>\n",
       "      <td>UCiGm_E4ZwYSHV3bcW1pnSeQ</td>\n",
       "      <td>Billie Eilish</td>\n",
       "      <td>PT3M32S</td>\n",
       "      <td>3039446</td>\n",
       "      <td>163206</td>\n",
       "      <td>0</td>\n",
       "      <td>5434</td>\n",
       "      <td>10</td>\n",
       "      <td>{'actual_start_time': None, 'actual_end_time':...</td>\n",
       "    </tr>\n",
       "    <tr>\n",
       "      <th>220</th>\n",
       "      <td>RJ2XlUga7Mc</td>\n",
       "      <td>I built a GIANT MEATBALL in Minecraft (emotion...</td>\n",
       "      <td>2019-07-18T16:01:50Z</td>\n",
       "      <td>UC-lHJZR3Gqxm24_Vd_AJ5Yw</td>\n",
       "      <td>PewDiePie</td>\n",
       "      <td>PT18M37S</td>\n",
       "      <td>19001003</td>\n",
       "      <td>979612</td>\n",
       "      <td>0</td>\n",
       "      <td>79925</td>\n",
       "      <td>20</td>\n",
       "      <td>{'actual_start_time': None, 'actual_end_time':...</td>\n",
       "    </tr>\n",
       "    <tr>\n",
       "      <th>181</th>\n",
       "      <td>5pEPpNpbnCI</td>\n",
       "      <td>BROFIST (PewDiePie Song, By Roomie)</td>\n",
       "      <td>2016-07-22T15:04:22Z</td>\n",
       "      <td>UC-lHJZR3Gqxm24_Vd_AJ5Yw</td>\n",
       "      <td>PewDiePie</td>\n",
       "      <td>PT3M9S</td>\n",
       "      <td>47020645</td>\n",
       "      <td>1388145</td>\n",
       "      <td>0</td>\n",
       "      <td>126129</td>\n",
       "      <td>20</td>\n",
       "      <td>{'actual_start_time': None, 'actual_end_time':...</td>\n",
       "    </tr>\n",
       "    <tr>\n",
       "      <th>343</th>\n",
       "      <td>vuXDX8AQFZ8</td>\n",
       "      <td>Billie Eilish – Documentary | Up Next</td>\n",
       "      <td>2018-05-07T16:20:18Z</td>\n",
       "      <td>UCiGm_E4ZwYSHV3bcW1pnSeQ</td>\n",
       "      <td>Billie Eilish</td>\n",
       "      <td>PT8M43S</td>\n",
       "      <td>7859237</td>\n",
       "      <td>481966</td>\n",
       "      <td>0</td>\n",
       "      <td>13890</td>\n",
       "      <td>10</td>\n",
       "      <td>{'actual_start_time': None, 'actual_end_time':...</td>\n",
       "    </tr>\n",
       "    <tr>\n",
       "      <th>305</th>\n",
       "      <td>jP-I_mpbCAQ</td>\n",
       "      <td>xQc Reacts to Uncommon Twitch Clips Compilatio...</td>\n",
       "      <td>2020-11-14T23:26:11Z</td>\n",
       "      <td>UCmDTrq0LNgPodDOFZiSbsww</td>\n",
       "      <td>xQc</td>\n",
       "      <td>PT12M37S</td>\n",
       "      <td>853582</td>\n",
       "      <td>30487</td>\n",
       "      <td>0</td>\n",
       "      <td>690</td>\n",
       "      <td>20</td>\n",
       "      <td>{'actual_start_time': None, 'actual_end_time':...</td>\n",
       "    </tr>\n",
       "    <tr>\n",
       "      <th>357</th>\n",
       "      <td>_18xpepmbcE</td>\n",
       "      <td>Billie Eilish - Happier Than Ever (Track By Tr...</td>\n",
       "      <td>2021-10-18T20:24:46Z</td>\n",
       "      <td>UCiGm_E4ZwYSHV3bcW1pnSeQ</td>\n",
       "      <td>Billie Eilish</td>\n",
       "      <td>PT8M12S</td>\n",
       "      <td>2854555</td>\n",
       "      <td>135650</td>\n",
       "      <td>0</td>\n",
       "      <td>6364</td>\n",
       "      <td>10</td>\n",
       "      <td>{'actual_start_time': None, 'actual_end_time':...</td>\n",
       "    </tr>\n",
       "    <tr>\n",
       "      <th>300</th>\n",
       "      <td>0fgpHaZfZBY</td>\n",
       "      <td>xQc Reacts to The Enduring Mystery of Jack the...</td>\n",
       "      <td>2021-09-11T01:21:45Z</td>\n",
       "      <td>UCmDTrq0LNgPodDOFZiSbsww</td>\n",
       "      <td>xQc</td>\n",
       "      <td>PT1H9M35S</td>\n",
       "      <td>876394</td>\n",
       "      <td>23687</td>\n",
       "      <td>0</td>\n",
       "      <td>1469</td>\n",
       "      <td>20</td>\n",
       "      <td>{'actual_start_time': None, 'actual_end_time':...</td>\n",
       "    </tr>\n",
       "    <tr>\n",
       "      <th>293</th>\n",
       "      <td>7b7NKxySuMc</td>\n",
       "      <td>xQc Reacts to MINECRAFT 1.16.1 SPEEDRUN WORLD ...</td>\n",
       "      <td>2020-11-05T13:30:04Z</td>\n",
       "      <td>UCmDTrq0LNgPodDOFZiSbsww</td>\n",
       "      <td>xQc</td>\n",
       "      <td>PT15M22S</td>\n",
       "      <td>1008298</td>\n",
       "      <td>32693</td>\n",
       "      <td>0</td>\n",
       "      <td>951</td>\n",
       "      <td>20</td>\n",
       "      <td>{'actual_start_time': None, 'actual_end_time':...</td>\n",
       "    </tr>\n",
       "    <tr>\n",
       "      <th>255</th>\n",
       "      <td>Fop2oskTug8</td>\n",
       "      <td>iPhone 13 Unboxing &amp; Impressions!</td>\n",
       "      <td>2021-09-21T13:01:01Z</td>\n",
       "      <td>UCBJycsmduvYEL83R_U4JriQ</td>\n",
       "      <td>Marques Brownlee</td>\n",
       "      <td>PT11M3S</td>\n",
       "      <td>8702702</td>\n",
       "      <td>274756</td>\n",
       "      <td>0</td>\n",
       "      <td>16448</td>\n",
       "      <td>28</td>\n",
       "      <td>{'actual_start_time': None, 'actual_end_time':...</td>\n",
       "    </tr>\n",
       "    <tr>\n",
       "      <th>48</th>\n",
       "      <td>TU99gX7NGZ8</td>\n",
       "      <td>100 Players, But Lava Rises Every Minute!</td>\n",
       "      <td>2020-11-27T21:10:15Z</td>\n",
       "      <td>UCIPPMRA040LQr5QPyJEbmXA</td>\n",
       "      <td>MrBeast Gaming</td>\n",
       "      <td>PT10M1S</td>\n",
       "      <td>65545697</td>\n",
       "      <td>946545</td>\n",
       "      <td>0</td>\n",
       "      <td>36573</td>\n",
       "      <td>20</td>\n",
       "      <td>{'actual_start_time': None, 'actual_end_time':...</td>\n",
       "    </tr>\n",
       "    <tr>\n",
       "      <th>230</th>\n",
       "      <td>MevKTPN4ozw</td>\n",
       "      <td>Talking Tech with Elon Musk!</td>\n",
       "      <td>2018-08-18T01:27:54Z</td>\n",
       "      <td>UCBJycsmduvYEL83R_U4JriQ</td>\n",
       "      <td>Marques Brownlee</td>\n",
       "      <td>PT17M54S</td>\n",
       "      <td>15262221</td>\n",
       "      <td>558521</td>\n",
       "      <td>0</td>\n",
       "      <td>27887</td>\n",
       "      <td>28</td>\n",
       "      <td>{'actual_start_time': None, 'actual_end_time':...</td>\n",
       "    </tr>\n",
       "    <tr>\n",
       "      <th>103</th>\n",
       "      <td>5s6iBACk-E4</td>\n",
       "      <td>What Can You Cut With Paper?</td>\n",
       "      <td>2022-06-02T20:00:02Z</td>\n",
       "      <td>UCUaT_39o1x6qWjz7K2pWcgw</td>\n",
       "      <td>Beast Reacts</td>\n",
       "      <td>PT8M10S</td>\n",
       "      <td>40858235</td>\n",
       "      <td>653184</td>\n",
       "      <td>0</td>\n",
       "      <td>10667</td>\n",
       "      <td>24</td>\n",
       "      <td>{'actual_start_time': None, 'actual_end_time':...</td>\n",
       "    </tr>\n",
       "    <tr>\n",
       "      <th>65</th>\n",
       "      <td>R3t78CfkIhc</td>\n",
       "      <td>I Made a 100 Player Skyblock Challenge!</td>\n",
       "      <td>2020-09-16T19:20:18Z</td>\n",
       "      <td>UCIPPMRA040LQr5QPyJEbmXA</td>\n",
       "      <td>MrBeast Gaming</td>\n",
       "      <td>PT11M27S</td>\n",
       "      <td>51844451</td>\n",
       "      <td>897267</td>\n",
       "      <td>0</td>\n",
       "      <td>29972</td>\n",
       "      <td>20</td>\n",
       "      <td>{'actual_start_time': None, 'actual_end_time':...</td>\n",
       "    </tr>\n",
       "    <tr>\n",
       "      <th>82</th>\n",
       "      <td>L1ug9p8uECU</td>\n",
       "      <td>Insane BMX Downhill!</td>\n",
       "      <td>2021-06-13T20:01:49Z</td>\n",
       "      <td>UCUaT_39o1x6qWjz7K2pWcgw</td>\n",
       "      <td>Beast Reacts</td>\n",
       "      <td>PT8M5S</td>\n",
       "      <td>57347737</td>\n",
       "      <td>905984</td>\n",
       "      <td>0</td>\n",
       "      <td>16804</td>\n",
       "      <td>24</td>\n",
       "      <td>{'actual_start_time': None, 'actual_end_time':...</td>\n",
       "    </tr>\n",
       "  </tbody>\n",
       "</table>\n",
       "</div>"
      ],
      "text/plain": [
       "        video_id                                        video_title  \\\n",
       "361  Sjw0eGi-FAU  Billie Eilish - No Time To Die (Live From Life...   \n",
       "246  ROkXM3csNWY                The Last (and First) Folding Phone!   \n",
       "7    lglIQkCHO0g                     Do Men Lie About Their Height?   \n",
       "262  C4sAUc_ZGMY          iPhone 13 Event Reaction: Everything New!   \n",
       "351  6360FasOvdg  Billie Eilish - Happier Than Ever (Jimmy Kimme...   \n",
       "68   Zi2j4tSZiWM               $10,000 World Height Jump Challenge!   \n",
       "356  TZP885KZCtQ  Billie Eilish - come out and play (LIVE FROM T...   \n",
       "220  RJ2XlUga7Mc  I built a GIANT MEATBALL in Minecraft (emotion...   \n",
       "181  5pEPpNpbnCI                BROFIST (PewDiePie Song, By Roomie)   \n",
       "343  vuXDX8AQFZ8              Billie Eilish – Documentary | Up Next   \n",
       "305  jP-I_mpbCAQ  xQc Reacts to Uncommon Twitch Clips Compilatio...   \n",
       "357  _18xpepmbcE  Billie Eilish - Happier Than Ever (Track By Tr...   \n",
       "300  0fgpHaZfZBY  xQc Reacts to The Enduring Mystery of Jack the...   \n",
       "293  7b7NKxySuMc  xQc Reacts to MINECRAFT 1.16.1 SPEEDRUN WORLD ...   \n",
       "255  Fop2oskTug8                  iPhone 13 Unboxing & Impressions!   \n",
       "48   TU99gX7NGZ8          100 Players, But Lava Rises Every Minute!   \n",
       "230  MevKTPN4ozw                       Talking Tech with Elon Musk!   \n",
       "103  5s6iBACk-E4                       What Can You Cut With Paper?   \n",
       "65   R3t78CfkIhc            I Made a 100 Player Skyblock Challenge!   \n",
       "82   L1ug9p8uECU                               Insane BMX Downhill!   \n",
       "\n",
       "             published_at                channel_id     channel_title  \\\n",
       "361  2021-09-28T15:00:30Z  UCiGm_E4ZwYSHV3bcW1pnSeQ     Billie Eilish   \n",
       "246  2019-07-20T21:56:56Z  UCBJycsmduvYEL83R_U4JriQ  Marques Brownlee   \n",
       "7    2023-02-14T21:00:14Z  UCX6OQ3DkcsbYNE6H8uQQuVA           MrBeast   \n",
       "262  2021-09-15T01:17:57Z  UCBJycsmduvYEL83R_U4JriQ  Marques Brownlee   \n",
       "351  2021-10-15T05:14:23Z  UCiGm_E4ZwYSHV3bcW1pnSeQ     Billie Eilish   \n",
       "68   2020-07-19T17:00:43Z  UCIPPMRA040LQr5QPyJEbmXA    MrBeast Gaming   \n",
       "356  2019-12-19T22:04:37Z  UCiGm_E4ZwYSHV3bcW1pnSeQ     Billie Eilish   \n",
       "220  2019-07-18T16:01:50Z  UC-lHJZR3Gqxm24_Vd_AJ5Yw         PewDiePie   \n",
       "181  2016-07-22T15:04:22Z  UC-lHJZR3Gqxm24_Vd_AJ5Yw         PewDiePie   \n",
       "343  2018-05-07T16:20:18Z  UCiGm_E4ZwYSHV3bcW1pnSeQ     Billie Eilish   \n",
       "305  2020-11-14T23:26:11Z  UCmDTrq0LNgPodDOFZiSbsww               xQc   \n",
       "357  2021-10-18T20:24:46Z  UCiGm_E4ZwYSHV3bcW1pnSeQ     Billie Eilish   \n",
       "300  2021-09-11T01:21:45Z  UCmDTrq0LNgPodDOFZiSbsww               xQc   \n",
       "293  2020-11-05T13:30:04Z  UCmDTrq0LNgPodDOFZiSbsww               xQc   \n",
       "255  2021-09-21T13:01:01Z  UCBJycsmduvYEL83R_U4JriQ  Marques Brownlee   \n",
       "48   2020-11-27T21:10:15Z  UCIPPMRA040LQr5QPyJEbmXA    MrBeast Gaming   \n",
       "230  2018-08-18T01:27:54Z  UCBJycsmduvYEL83R_U4JriQ  Marques Brownlee   \n",
       "103  2022-06-02T20:00:02Z  UCUaT_39o1x6qWjz7K2pWcgw      Beast Reacts   \n",
       "65   2020-09-16T19:20:18Z  UCIPPMRA040LQr5QPyJEbmXA    MrBeast Gaming   \n",
       "82   2021-06-13T20:01:49Z  UCUaT_39o1x6qWjz7K2pWcgw      Beast Reacts   \n",
       "\n",
       "    video_duration  video_view_count  video_likes  video_dislikes  \\\n",
       "361           PT4M           2720513       186417               0   \n",
       "246        PT9M17S           9345576       158920               0   \n",
       "7            PT47S         170685772      9538513               0   \n",
       "262       PT12M24S           8097502       253165               0   \n",
       "351         PT5M7S           4069346       251980               0   \n",
       "68        PT10M12S          50490327       974324               0   \n",
       "356        PT3M32S           3039446       163206               0   \n",
       "220       PT18M37S          19001003       979612               0   \n",
       "181         PT3M9S          47020645      1388145               0   \n",
       "343        PT8M43S           7859237       481966               0   \n",
       "305       PT12M37S            853582        30487               0   \n",
       "357        PT8M12S           2854555       135650               0   \n",
       "300      PT1H9M35S            876394        23687               0   \n",
       "293       PT15M22S           1008298        32693               0   \n",
       "255        PT11M3S           8702702       274756               0   \n",
       "48         PT10M1S          65545697       946545               0   \n",
       "230       PT17M54S          15262221       558521               0   \n",
       "103        PT8M10S          40858235       653184               0   \n",
       "65        PT11M27S          51844451       897267               0   \n",
       "82          PT8M5S          57347737       905984               0   \n",
       "\n",
       "     video_comments  video_category_id  \\\n",
       "361            7189                 10   \n",
       "246            9018                 28   \n",
       "7             20498                 24   \n",
       "262           17627                 28   \n",
       "351            7709                 10   \n",
       "68            22068                 20   \n",
       "356            5434                 10   \n",
       "220           79925                 20   \n",
       "181          126129                 20   \n",
       "343           13890                 10   \n",
       "305             690                 20   \n",
       "357            6364                 10   \n",
       "300            1469                 20   \n",
       "293             951                 20   \n",
       "255           16448                 28   \n",
       "48            36573                 20   \n",
       "230           27887                 28   \n",
       "103           10667                 24   \n",
       "65            29972                 20   \n",
       "82            16804                 24   \n",
       "\n",
       "                                  video_live_streaming  \n",
       "361  {'actual_start_time': None, 'actual_end_time':...  \n",
       "246  {'actual_start_time': None, 'actual_end_time':...  \n",
       "7    {'actual_start_time': None, 'actual_end_time':...  \n",
       "262  {'actual_start_time': None, 'actual_end_time':...  \n",
       "351  {'actual_start_time': None, 'actual_end_time':...  \n",
       "68   {'actual_start_time': None, 'actual_end_time':...  \n",
       "356  {'actual_start_time': None, 'actual_end_time':...  \n",
       "220  {'actual_start_time': None, 'actual_end_time':...  \n",
       "181  {'actual_start_time': None, 'actual_end_time':...  \n",
       "343  {'actual_start_time': None, 'actual_end_time':...  \n",
       "305  {'actual_start_time': None, 'actual_end_time':...  \n",
       "357  {'actual_start_time': None, 'actual_end_time':...  \n",
       "300  {'actual_start_time': None, 'actual_end_time':...  \n",
       "293  {'actual_start_time': None, 'actual_end_time':...  \n",
       "255  {'actual_start_time': None, 'actual_end_time':...  \n",
       "48   {'actual_start_time': None, 'actual_end_time':...  \n",
       "230  {'actual_start_time': None, 'actual_end_time':...  \n",
       "103  {'actual_start_time': None, 'actual_end_time':...  \n",
       "65   {'actual_start_time': None, 'actual_end_time':...  \n",
       "82   {'actual_start_time': None, 'actual_end_time':...  "
      ]
     },
     "execution_count": 29,
     "metadata": {},
     "output_type": "execute_result"
    }
   ],
   "source": [
    "videos_df.sample(20)"
   ]
  },
  {
   "cell_type": "code",
   "execution_count": 30,
   "metadata": {},
   "outputs": [
    {
     "data": {
      "text/plain": [
       "[Index(['channel_id', 'channel_title', 'description', 'published_at',\n",
       "        'thumbnail_url', 'country', 'playlist_likes', 'playlist_uploads',\n",
       "        'view_count', 'subscriber_count', 'video_count', 'topic_ids'],\n",
       "       dtype='object'),\n",
       " Index(['playlist_id', 'playlist_title', 'published_at', 'video_count',\n",
       "        'playlist_duration'],\n",
       "       dtype='object'),\n",
       " Index(['video_id', 'video_title', 'published_at', 'channel_id',\n",
       "        'channel_title', 'video_duration', 'video_view_count', 'video_likes',\n",
       "        'video_dislikes', 'video_comments', 'video_category_id',\n",
       "        'video_live_streaming'],\n",
       "       dtype='object')]"
      ]
     },
     "execution_count": 30,
     "metadata": {},
     "output_type": "execute_result"
    }
   ],
   "source": [
    "columns = [channels_df.columns, playlists_df.columns, videos_df.columns]\n",
    "columns"
   ]
  },
  {
   "cell_type": "code",
   "execution_count": 31,
   "metadata": {},
   "outputs": [],
   "source": [
    "def calculate_average_engagement_rate(df):\n",
    "    return (df[\"video_likes\"].sum() / df[\"video_view_count\"].sum()) * 100\n",
    "\n",
    "def find_popular_video_categories(df):\n",
    "    return df.groupby(\"video_category_id\")[\"video_view_count\"].sum().sort_values(ascending=False)\n",
    "\n",
    "def find_upload_frequency(df):\n",
    "    df[\"published_at\"] = pd.to_datetime(df[\"published_at\"])\n",
    "    df[\"year\"] = df[\"published_at\"].dt.year\n",
    "    return df.groupby(\"year\")[\"video_id\"].count()\n"
   ]
  },
  {
   "cell_type": "code",
   "execution_count": 32,
   "metadata": {},
   "outputs": [],
   "source": [
    "# Calculate average engagement rate for videos\n",
    "avg_engagement_rate = calculate_average_engagement_rate(videos_df)\n",
    "\n",
    "# Find popular video categories\n",
    "popular_video_categories = find_popular_video_categories(videos_df)\n",
    "\n",
    "# Find patterns in video upload frequency\n",
    "upload_frequency = find_upload_frequency(videos_df)\n",
    "\n",
    "# Save the results to CSV files\n",
    "popular_video_categories.to_csv(r\"Datasets/popular_video_categories.csv\")\n",
    "upload_frequency.to_csv(r\"Datasets/upload_frequency.csv\")\n"
   ]
  },
  {
   "cell_type": "code",
   "execution_count": 33,
   "metadata": {},
   "outputs": [],
   "source": [
    "channels_data = {}\n",
    "for channel_id in channels_df[\"channel_id\"].unique():\n",
    "    channel_title = channels_df.loc[channels_df[\"channel_id\"] == channel_id, \"channel_title\"].values[0]\n",
    "    channels_data[channel_title] = {\n",
    "        \"channel\": channels_df[channels_df[\"channel_id\"] == channel_id],\n",
    "        \"videos\": videos_df[videos_df[\"channel_id\"] == channel_id]\n",
    "    }\n"
   ]
  },
  {
   "cell_type": "code",
   "execution_count": 34,
   "metadata": {},
   "outputs": [
    {
     "name": "stderr",
     "output_type": "stream",
     "text": [
      "C:\\Users\\Lord MZ\\AppData\\Local\\Temp\\ipykernel_33504\\143951461.py:8: SettingWithCopyWarning: \n",
      "A value is trying to be set on a copy of a slice from a DataFrame.\n",
      "Try using .loc[row_indexer,col_indexer] = value instead\n",
      "\n",
      "See the caveats in the documentation: https://pandas.pydata.org/pandas-docs/stable/user_guide/indexing.html#returning-a-view-versus-a-copy\n",
      "  df[\"published_at\"] = pd.to_datetime(df[\"published_at\"])\n",
      "C:\\Users\\Lord MZ\\AppData\\Local\\Temp\\ipykernel_33504\\143951461.py:9: SettingWithCopyWarning: \n",
      "A value is trying to be set on a copy of a slice from a DataFrame.\n",
      "Try using .loc[row_indexer,col_indexer] = value instead\n",
      "\n",
      "See the caveats in the documentation: https://pandas.pydata.org/pandas-docs/stable/user_guide/indexing.html#returning-a-view-versus-a-copy\n",
      "  df[\"year\"] = df[\"published_at\"].dt.year\n",
      "C:\\Users\\Lord MZ\\AppData\\Local\\Temp\\ipykernel_33504\\143951461.py:8: SettingWithCopyWarning: \n",
      "A value is trying to be set on a copy of a slice from a DataFrame.\n",
      "Try using .loc[row_indexer,col_indexer] = value instead\n",
      "\n",
      "See the caveats in the documentation: https://pandas.pydata.org/pandas-docs/stable/user_guide/indexing.html#returning-a-view-versus-a-copy\n",
      "  df[\"published_at\"] = pd.to_datetime(df[\"published_at\"])\n",
      "C:\\Users\\Lord MZ\\AppData\\Local\\Temp\\ipykernel_33504\\143951461.py:9: SettingWithCopyWarning: \n",
      "A value is trying to be set on a copy of a slice from a DataFrame.\n",
      "Try using .loc[row_indexer,col_indexer] = value instead\n",
      "\n",
      "See the caveats in the documentation: https://pandas.pydata.org/pandas-docs/stable/user_guide/indexing.html#returning-a-view-versus-a-copy\n",
      "  df[\"year\"] = df[\"published_at\"].dt.year\n",
      "C:\\Users\\Lord MZ\\AppData\\Local\\Temp\\ipykernel_33504\\143951461.py:8: SettingWithCopyWarning: \n",
      "A value is trying to be set on a copy of a slice from a DataFrame.\n",
      "Try using .loc[row_indexer,col_indexer] = value instead\n",
      "\n",
      "See the caveats in the documentation: https://pandas.pydata.org/pandas-docs/stable/user_guide/indexing.html#returning-a-view-versus-a-copy\n",
      "  df[\"published_at\"] = pd.to_datetime(df[\"published_at\"])\n",
      "C:\\Users\\Lord MZ\\AppData\\Local\\Temp\\ipykernel_33504\\143951461.py:9: SettingWithCopyWarning: \n",
      "A value is trying to be set on a copy of a slice from a DataFrame.\n",
      "Try using .loc[row_indexer,col_indexer] = value instead\n",
      "\n",
      "See the caveats in the documentation: https://pandas.pydata.org/pandas-docs/stable/user_guide/indexing.html#returning-a-view-versus-a-copy\n",
      "  df[\"year\"] = df[\"published_at\"].dt.year\n",
      "C:\\Users\\Lord MZ\\AppData\\Local\\Temp\\ipykernel_33504\\143951461.py:8: SettingWithCopyWarning: \n",
      "A value is trying to be set on a copy of a slice from a DataFrame.\n",
      "Try using .loc[row_indexer,col_indexer] = value instead\n",
      "\n",
      "See the caveats in the documentation: https://pandas.pydata.org/pandas-docs/stable/user_guide/indexing.html#returning-a-view-versus-a-copy\n",
      "  df[\"published_at\"] = pd.to_datetime(df[\"published_at\"])\n",
      "C:\\Users\\Lord MZ\\AppData\\Local\\Temp\\ipykernel_33504\\143951461.py:9: SettingWithCopyWarning: \n",
      "A value is trying to be set on a copy of a slice from a DataFrame.\n",
      "Try using .loc[row_indexer,col_indexer] = value instead\n",
      "\n",
      "See the caveats in the documentation: https://pandas.pydata.org/pandas-docs/stable/user_guide/indexing.html#returning-a-view-versus-a-copy\n",
      "  df[\"year\"] = df[\"published_at\"].dt.year\n",
      "C:\\Users\\Lord MZ\\AppData\\Local\\Temp\\ipykernel_33504\\143951461.py:8: SettingWithCopyWarning: \n",
      "A value is trying to be set on a copy of a slice from a DataFrame.\n",
      "Try using .loc[row_indexer,col_indexer] = value instead\n",
      "\n",
      "See the caveats in the documentation: https://pandas.pydata.org/pandas-docs/stable/user_guide/indexing.html#returning-a-view-versus-a-copy\n",
      "  df[\"published_at\"] = pd.to_datetime(df[\"published_at\"])\n",
      "C:\\Users\\Lord MZ\\AppData\\Local\\Temp\\ipykernel_33504\\143951461.py:9: SettingWithCopyWarning: \n",
      "A value is trying to be set on a copy of a slice from a DataFrame.\n",
      "Try using .loc[row_indexer,col_indexer] = value instead\n",
      "\n",
      "See the caveats in the documentation: https://pandas.pydata.org/pandas-docs/stable/user_guide/indexing.html#returning-a-view-versus-a-copy\n",
      "  df[\"year\"] = df[\"published_at\"].dt.year\n",
      "C:\\Users\\Lord MZ\\AppData\\Local\\Temp\\ipykernel_33504\\143951461.py:8: SettingWithCopyWarning: \n",
      "A value is trying to be set on a copy of a slice from a DataFrame.\n",
      "Try using .loc[row_indexer,col_indexer] = value instead\n",
      "\n",
      "See the caveats in the documentation: https://pandas.pydata.org/pandas-docs/stable/user_guide/indexing.html#returning-a-view-versus-a-copy\n",
      "  df[\"published_at\"] = pd.to_datetime(df[\"published_at\"])\n",
      "C:\\Users\\Lord MZ\\AppData\\Local\\Temp\\ipykernel_33504\\143951461.py:9: SettingWithCopyWarning: \n",
      "A value is trying to be set on a copy of a slice from a DataFrame.\n",
      "Try using .loc[row_indexer,col_indexer] = value instead\n",
      "\n",
      "See the caveats in the documentation: https://pandas.pydata.org/pandas-docs/stable/user_guide/indexing.html#returning-a-view-versus-a-copy\n",
      "  df[\"year\"] = df[\"published_at\"].dt.year\n",
      "C:\\Users\\Lord MZ\\AppData\\Local\\Temp\\ipykernel_33504\\143951461.py:8: SettingWithCopyWarning: \n",
      "A value is trying to be set on a copy of a slice from a DataFrame.\n",
      "Try using .loc[row_indexer,col_indexer] = value instead\n",
      "\n",
      "See the caveats in the documentation: https://pandas.pydata.org/pandas-docs/stable/user_guide/indexing.html#returning-a-view-versus-a-copy\n",
      "  df[\"published_at\"] = pd.to_datetime(df[\"published_at\"])\n",
      "C:\\Users\\Lord MZ\\AppData\\Local\\Temp\\ipykernel_33504\\143951461.py:9: SettingWithCopyWarning: \n",
      "A value is trying to be set on a copy of a slice from a DataFrame.\n",
      "Try using .loc[row_indexer,col_indexer] = value instead\n",
      "\n",
      "See the caveats in the documentation: https://pandas.pydata.org/pandas-docs/stable/user_guide/indexing.html#returning-a-view-versus-a-copy\n",
      "  df[\"year\"] = df[\"published_at\"].dt.year\n",
      "C:\\Users\\Lord MZ\\AppData\\Local\\Temp\\ipykernel_33504\\143951461.py:8: SettingWithCopyWarning: \n",
      "A value is trying to be set on a copy of a slice from a DataFrame.\n",
      "Try using .loc[row_indexer,col_indexer] = value instead\n",
      "\n",
      "See the caveats in the documentation: https://pandas.pydata.org/pandas-docs/stable/user_guide/indexing.html#returning-a-view-versus-a-copy\n",
      "  df[\"published_at\"] = pd.to_datetime(df[\"published_at\"])\n",
      "C:\\Users\\Lord MZ\\AppData\\Local\\Temp\\ipykernel_33504\\143951461.py:9: SettingWithCopyWarning: \n",
      "A value is trying to be set on a copy of a slice from a DataFrame.\n",
      "Try using .loc[row_indexer,col_indexer] = value instead\n",
      "\n",
      "See the caveats in the documentation: https://pandas.pydata.org/pandas-docs/stable/user_guide/indexing.html#returning-a-view-versus-a-copy\n",
      "  df[\"year\"] = df[\"published_at\"].dt.year\n"
     ]
    }
   ],
   "source": [
    "for channel_title, data in channels_data.items():\n",
    "    data[\"avg_engagement_rate\"] = calculate_average_engagement_rate(data[\"videos\"])\n",
    "    data[\"popular_video_categories\"] = find_popular_video_categories(data[\"videos\"])\n",
    "    data[\"upload_frequency\"] = find_upload_frequency(data[\"videos\"])"
   ]
  },
  {
   "cell_type": "code",
   "execution_count": 35,
   "metadata": {},
   "outputs": [],
   "source": [
    "# Set figure size in inches (width, height)\n",
    "figure_size = (20, 15)\n",
    "\n",
    "# Set the DPI (dots per inch) for the saved image\n",
    "dpi = 100"
   ]
  },
  {
   "cell_type": "code",
   "execution_count": 36,
   "metadata": {},
   "outputs": [
    {
     "data": {
      "text/plain": [
       "<Figure size 2000x1500 with 0 Axes>"
      ]
     },
     "metadata": {},
     "output_type": "display_data"
    },
    {
     "data": {
      "text/plain": [
       "<Figure size 2000x1500 with 0 Axes>"
      ]
     },
     "metadata": {},
     "output_type": "display_data"
    },
    {
     "data": {
      "text/plain": [
       "<Figure size 2000x1500 with 0 Axes>"
      ]
     },
     "metadata": {},
     "output_type": "display_data"
    },
    {
     "data": {
      "text/plain": [
       "<Figure size 2000x1500 with 0 Axes>"
      ]
     },
     "metadata": {},
     "output_type": "display_data"
    },
    {
     "data": {
      "text/plain": [
       "<Figure size 2000x1500 with 0 Axes>"
      ]
     },
     "metadata": {},
     "output_type": "display_data"
    },
    {
     "data": {
      "text/plain": [
       "<Figure size 2000x1500 with 0 Axes>"
      ]
     },
     "metadata": {},
     "output_type": "display_data"
    },
    {
     "data": {
      "text/plain": [
       "<Figure size 2000x1500 with 0 Axes>"
      ]
     },
     "metadata": {},
     "output_type": "display_data"
    },
    {
     "data": {
      "text/plain": [
       "<Figure size 2000x1500 with 0 Axes>"
      ]
     },
     "metadata": {},
     "output_type": "display_data"
    }
   ],
   "source": [
    "for channel_title, data in channels_data.items():\n",
    "    # Example: bar chart for popular video categories\n",
    "    plt.figure(figsize=figure_size, dpi=dpi)\n",
    "    plt.bar(data[\"popular_video_categories\"].index, data[\"popular_video_categories\"].values)\n",
    "    plt.title(f\"Popular Video Categories for Channel {channel_title}\")\n",
    "    plt.xlabel(\"Video Category ID\")\n",
    "    plt.ylabel(\"Views\")\n",
    "    folder_path = f\"data_images/{channel_title}\"\n",
    "    os.makedirs(folder_path, exist_ok=True)\n",
    "    plt.savefig(f\"{folder_path}/{channel_title}_popular_video_categories.png\", dpi=dpi)\n",
    "    plt.clf()\n",
    "    plt.show()"
   ]
  },
  {
   "cell_type": "code",
   "execution_count": 37,
   "metadata": {},
   "outputs": [],
   "source": [
    "# Example: Compare average engagement rates between channels\n",
    "channel_engagement_rates = {channel_title: data[\"avg_engagement_rate\"] for channel_title, data in channels_data.items()}\n",
    "channel_engagement_rates_df = pd.Series(channel_engagement_rates).to_frame(\"avg_engagement_rate\")\n",
    "channel_engagement_rates_df.to_csv(r\"Datasets/channel_engagement_rates.csv\")"
   ]
  },
  {
   "cell_type": "code",
   "execution_count": 38,
   "metadata": {},
   "outputs": [
    {
     "data": {
      "text/plain": [
       "<Figure size 2000x1500 with 0 Axes>"
      ]
     },
     "metadata": {},
     "output_type": "display_data"
    }
   ],
   "source": [
    "# Example: Bar chart comparing average engagement rates between channels\n",
    "plt.figure(figsize=figure_size, dpi=dpi)\n",
    "plt.bar(channel_engagement_rates_df.index, channel_engagement_rates_df[\"avg_engagement_rate\"])\n",
    "plt.title(\"Average Engagement Rates for Channels\")\n",
    "plt.xlabel(\"Channel Title\")\n",
    "plt.ylabel(\"Average Engagement Rate\")\n",
    "plt.xticks(rotation=90)\n",
    "plt.savefig(f\"{folder_path}/channel_engagement_rates_comparison.png\", dpi=dpi)\n",
    "plt.clf()\n",
    "plt.show()\n"
   ]
  },
  {
   "cell_type": "code",
   "execution_count": 39,
   "metadata": {},
   "outputs": [
    {
     "data": {
      "text/plain": [
       "<Figure size 2000x1500 with 0 Axes>"
      ]
     },
     "metadata": {},
     "output_type": "display_data"
    },
    {
     "data": {
      "text/plain": [
       "<Figure size 2000x1500 with 0 Axes>"
      ]
     },
     "metadata": {},
     "output_type": "display_data"
    },
    {
     "data": {
      "text/plain": [
       "<Figure size 2000x1500 with 0 Axes>"
      ]
     },
     "metadata": {},
     "output_type": "display_data"
    },
    {
     "data": {
      "text/plain": [
       "<Figure size 2000x1500 with 0 Axes>"
      ]
     },
     "metadata": {},
     "output_type": "display_data"
    },
    {
     "data": {
      "text/plain": [
       "<Figure size 2000x1500 with 0 Axes>"
      ]
     },
     "metadata": {},
     "output_type": "display_data"
    },
    {
     "data": {
      "text/plain": [
       "<Figure size 2000x1500 with 0 Axes>"
      ]
     },
     "metadata": {},
     "output_type": "display_data"
    },
    {
     "data": {
      "text/plain": [
       "<Figure size 2000x1500 with 0 Axes>"
      ]
     },
     "metadata": {},
     "output_type": "display_data"
    },
    {
     "data": {
      "text/plain": [
       "<Figure size 2000x1500 with 0 Axes>"
      ]
     },
     "metadata": {},
     "output_type": "display_data"
    },
    {
     "data": {
      "text/plain": [
       "<Figure size 2000x1500 with 0 Axes>"
      ]
     },
     "metadata": {},
     "output_type": "display_data"
    },
    {
     "data": {
      "text/plain": [
       "<Figure size 2000x1500 with 0 Axes>"
      ]
     },
     "metadata": {},
     "output_type": "display_data"
    },
    {
     "data": {
      "text/plain": [
       "<Figure size 2000x1500 with 0 Axes>"
      ]
     },
     "metadata": {},
     "output_type": "display_data"
    },
    {
     "data": {
      "text/plain": [
       "<Figure size 2000x1500 with 0 Axes>"
      ]
     },
     "metadata": {},
     "output_type": "display_data"
    },
    {
     "data": {
      "text/plain": [
       "<Figure size 2000x1500 with 0 Axes>"
      ]
     },
     "metadata": {},
     "output_type": "display_data"
    },
    {
     "data": {
      "text/plain": [
       "<Figure size 2000x1500 with 0 Axes>"
      ]
     },
     "metadata": {},
     "output_type": "display_data"
    },
    {
     "data": {
      "text/plain": [
       "<Figure size 2000x1500 with 0 Axes>"
      ]
     },
     "metadata": {},
     "output_type": "display_data"
    },
    {
     "data": {
      "text/plain": [
       "<Figure size 2000x1500 with 0 Axes>"
      ]
     },
     "metadata": {},
     "output_type": "display_data"
    },
    {
     "data": {
      "text/plain": [
       "<Figure size 2000x1500 with 0 Axes>"
      ]
     },
     "metadata": {},
     "output_type": "display_data"
    },
    {
     "data": {
      "text/plain": [
       "<Figure size 2000x1500 with 0 Axes>"
      ]
     },
     "metadata": {},
     "output_type": "display_data"
    },
    {
     "data": {
      "text/plain": [
       "<Figure size 2000x1500 with 0 Axes>"
      ]
     },
     "metadata": {},
     "output_type": "display_data"
    },
    {
     "data": {
      "text/plain": [
       "<Figure size 2000x1500 with 0 Axes>"
      ]
     },
     "metadata": {},
     "output_type": "display_data"
    },
    {
     "data": {
      "text/plain": [
       "<Figure size 2000x1500 with 0 Axes>"
      ]
     },
     "metadata": {},
     "output_type": "display_data"
    },
    {
     "data": {
      "text/plain": [
       "<Figure size 2000x1500 with 0 Axes>"
      ]
     },
     "metadata": {},
     "output_type": "display_data"
    },
    {
     "data": {
      "text/plain": [
       "<Figure size 2000x1500 with 0 Axes>"
      ]
     },
     "metadata": {},
     "output_type": "display_data"
    },
    {
     "data": {
      "text/plain": [
       "<Figure size 2000x1500 with 0 Axes>"
      ]
     },
     "metadata": {},
     "output_type": "display_data"
    },
    {
     "data": {
      "text/plain": [
       "<Figure size 2000x1500 with 0 Axes>"
      ]
     },
     "metadata": {},
     "output_type": "display_data"
    },
    {
     "data": {
      "text/plain": [
       "<Figure size 2000x1500 with 0 Axes>"
      ]
     },
     "metadata": {},
     "output_type": "display_data"
    },
    {
     "data": {
      "text/plain": [
       "<Figure size 2000x1500 with 0 Axes>"
      ]
     },
     "metadata": {},
     "output_type": "display_data"
    },
    {
     "data": {
      "text/plain": [
       "<Figure size 2000x1500 with 0 Axes>"
      ]
     },
     "metadata": {},
     "output_type": "display_data"
    },
    {
     "data": {
      "text/plain": [
       "<Figure size 2000x1500 with 0 Axes>"
      ]
     },
     "metadata": {},
     "output_type": "display_data"
    },
    {
     "data": {
      "text/plain": [
       "<Figure size 2000x1500 with 0 Axes>"
      ]
     },
     "metadata": {},
     "output_type": "display_data"
    },
    {
     "data": {
      "text/plain": [
       "<Figure size 2000x1500 with 0 Axes>"
      ]
     },
     "metadata": {},
     "output_type": "display_data"
    },
    {
     "data": {
      "text/plain": [
       "<Figure size 2000x1500 with 0 Axes>"
      ]
     },
     "metadata": {},
     "output_type": "display_data"
    }
   ],
   "source": [
    "def plot_channel_statistics(data, channel_title, statistic_name):\n",
    "    plt.figure(figsize=figure_size, dpi=dpi)\n",
    "    plt.hist(data[\"video_\" + statistic_name], bins=20)\n",
    "    plt.title(f\"{statistic_name.capitalize()} distribution for Channel {channel_title}\")\n",
    "    plt.xlabel(statistic_name.capitalize())\n",
    "    plt.ylabel(\"Number of videos\")\n",
    "    folder_path = f\"data_images/{channel_title}\"\n",
    "    os.makedirs(folder_path, exist_ok=True)  \n",
    "    plt.savefig(f\"{folder_path}/{channel_title}_{statistic_name}_distribution.png\", dpi=dpi)\n",
    "    plt.clf()\n",
    "    plt.show()\n",
    "\n",
    "for channel_title, data in channels_data.items():\n",
    "    for statistic_name in [\"view_count\", \"likes\", \"dislikes\", \"comments\"]:\n",
    "        plot_channel_statistics(data[\"videos\"], channel_title, statistic_name)\n"
   ]
  },
  {
   "cell_type": "code",
   "execution_count": 40,
   "metadata": {},
   "outputs": [
    {
     "data": {
      "text/plain": [
       "<Figure size 2000x1500 with 0 Axes>"
      ]
     },
     "metadata": {},
     "output_type": "display_data"
    },
    {
     "data": {
      "text/plain": [
       "<Figure size 2000x1500 with 0 Axes>"
      ]
     },
     "metadata": {},
     "output_type": "display_data"
    },
    {
     "data": {
      "text/plain": [
       "<Figure size 2000x1500 with 0 Axes>"
      ]
     },
     "metadata": {},
     "output_type": "display_data"
    },
    {
     "data": {
      "text/plain": [
       "<Figure size 2000x1500 with 0 Axes>"
      ]
     },
     "metadata": {},
     "output_type": "display_data"
    },
    {
     "data": {
      "text/plain": [
       "<Figure size 2000x1500 with 0 Axes>"
      ]
     },
     "metadata": {},
     "output_type": "display_data"
    },
    {
     "data": {
      "text/plain": [
       "<Figure size 2000x1500 with 0 Axes>"
      ]
     },
     "metadata": {},
     "output_type": "display_data"
    },
    {
     "data": {
      "text/plain": [
       "<Figure size 2000x1500 with 0 Axes>"
      ]
     },
     "metadata": {},
     "output_type": "display_data"
    },
    {
     "data": {
      "text/plain": [
       "<Figure size 2000x1500 with 0 Axes>"
      ]
     },
     "metadata": {},
     "output_type": "display_data"
    },
    {
     "data": {
      "text/plain": [
       "<Figure size 2000x1500 with 0 Axes>"
      ]
     },
     "metadata": {},
     "output_type": "display_data"
    },
    {
     "data": {
      "text/plain": [
       "<Figure size 2000x1500 with 0 Axes>"
      ]
     },
     "metadata": {},
     "output_type": "display_data"
    },
    {
     "data": {
      "text/plain": [
       "<Figure size 2000x1500 with 0 Axes>"
      ]
     },
     "metadata": {},
     "output_type": "display_data"
    },
    {
     "data": {
      "text/plain": [
       "<Figure size 2000x1500 with 0 Axes>"
      ]
     },
     "metadata": {},
     "output_type": "display_data"
    },
    {
     "data": {
      "text/plain": [
       "<Figure size 2000x1500 with 0 Axes>"
      ]
     },
     "metadata": {},
     "output_type": "display_data"
    },
    {
     "data": {
      "text/plain": [
       "<Figure size 2000x1500 with 0 Axes>"
      ]
     },
     "metadata": {},
     "output_type": "display_data"
    },
    {
     "data": {
      "text/plain": [
       "<Figure size 2000x1500 with 0 Axes>"
      ]
     },
     "metadata": {},
     "output_type": "display_data"
    },
    {
     "data": {
      "text/plain": [
       "<Figure size 2000x1500 with 0 Axes>"
      ]
     },
     "metadata": {},
     "output_type": "display_data"
    },
    {
     "data": {
      "text/plain": [
       "<Figure size 2000x1500 with 0 Axes>"
      ]
     },
     "metadata": {},
     "output_type": "display_data"
    },
    {
     "data": {
      "text/plain": [
       "<Figure size 2000x1500 with 0 Axes>"
      ]
     },
     "metadata": {},
     "output_type": "display_data"
    },
    {
     "data": {
      "text/plain": [
       "<Figure size 2000x1500 with 0 Axes>"
      ]
     },
     "metadata": {},
     "output_type": "display_data"
    },
    {
     "data": {
      "text/plain": [
       "<Figure size 2000x1500 with 0 Axes>"
      ]
     },
     "metadata": {},
     "output_type": "display_data"
    },
    {
     "data": {
      "text/plain": [
       "<Figure size 2000x1500 with 0 Axes>"
      ]
     },
     "metadata": {},
     "output_type": "display_data"
    },
    {
     "data": {
      "text/plain": [
       "<Figure size 2000x1500 with 0 Axes>"
      ]
     },
     "metadata": {},
     "output_type": "display_data"
    },
    {
     "data": {
      "text/plain": [
       "<Figure size 2000x1500 with 0 Axes>"
      ]
     },
     "metadata": {},
     "output_type": "display_data"
    },
    {
     "data": {
      "text/plain": [
       "<Figure size 2000x1500 with 0 Axes>"
      ]
     },
     "metadata": {},
     "output_type": "display_data"
    },
    {
     "data": {
      "text/plain": [
       "<Figure size 2000x1500 with 0 Axes>"
      ]
     },
     "metadata": {},
     "output_type": "display_data"
    },
    {
     "data": {
      "text/plain": [
       "<Figure size 2000x1500 with 0 Axes>"
      ]
     },
     "metadata": {},
     "output_type": "display_data"
    },
    {
     "data": {
      "text/plain": [
       "<Figure size 2000x1500 with 0 Axes>"
      ]
     },
     "metadata": {},
     "output_type": "display_data"
    },
    {
     "data": {
      "text/plain": [
       "<Figure size 2000x1500 with 0 Axes>"
      ]
     },
     "metadata": {},
     "output_type": "display_data"
    },
    {
     "data": {
      "text/plain": [
       "<Figure size 2000x1500 with 0 Axes>"
      ]
     },
     "metadata": {},
     "output_type": "display_data"
    },
    {
     "data": {
      "text/plain": [
       "<Figure size 2000x1500 with 0 Axes>"
      ]
     },
     "metadata": {},
     "output_type": "display_data"
    },
    {
     "data": {
      "text/plain": [
       "<Figure size 2000x1500 with 0 Axes>"
      ]
     },
     "metadata": {},
     "output_type": "display_data"
    },
    {
     "data": {
      "text/plain": [
       "<Figure size 2000x1500 with 0 Axes>"
      ]
     },
     "metadata": {},
     "output_type": "display_data"
    }
   ],
   "source": [
    "def plot_video_category_statistics(data, channel_title, statistic_name):\n",
    "    video_categories = data.groupby(\"video_category_id\")[f\"video_{statistic_name}\"].sum()\n",
    "    plt.figure(figsize=figure_size, dpi=dpi)\n",
    "    plt.bar(video_categories.index, video_categories.values)\n",
    "    plt.title(f\"Total {statistic_name.capitalize()} per Video Category for Channel {channel_title}\")\n",
    "    plt.xlabel(\"Video Category ID\")\n",
    "    plt.ylabel(f\"Total {statistic_name.capitalize()}\")\n",
    "    folder_path = f\"data_images/{channel_title}\"\n",
    "    os.makedirs(folder_path, exist_ok=True)\n",
    "    plt.savefig(f\"{folder_path}/{channel_title}_video_category_{statistic_name}.png\", dpi=dpi)\n",
    "    plt.clf()\n",
    "    plt.show()\n",
    "\n",
    "for channel_title, data in channels_data.items():\n",
    "    for statistic_name in [\"view_count\", \"likes\", \"dislikes\", \"comments\"]:\n",
    "        plot_video_category_statistics(data[\"videos\"], channel_title, statistic_name)\n"
   ]
  },
  {
   "cell_type": "code",
   "execution_count": 41,
   "metadata": {},
   "outputs": [
    {
     "data": {
      "text/plain": [
       "<Figure size 2000x1500 with 0 Axes>"
      ]
     },
     "metadata": {},
     "output_type": "display_data"
    },
    {
     "data": {
      "text/plain": [
       "<Figure size 2000x1500 with 0 Axes>"
      ]
     },
     "metadata": {},
     "output_type": "display_data"
    },
    {
     "data": {
      "text/plain": [
       "<Figure size 2000x1500 with 0 Axes>"
      ]
     },
     "metadata": {},
     "output_type": "display_data"
    },
    {
     "data": {
      "text/plain": [
       "<Figure size 2000x1500 with 0 Axes>"
      ]
     },
     "metadata": {},
     "output_type": "display_data"
    }
   ],
   "source": [
    "def plot_comparison_statistics(channels_data, statistic_name):\n",
    "    channel_statistics = {channel_title: data[\"videos\"][f\"video_{statistic_name}\"].sum() for channel_title, data in channels_data.items()}\n",
    "    channel_statistics_df = pd.Series(channel_statistics).to_frame(f\"total_{statistic_name}\")\n",
    "    channel_statistics_df.to_csv(f\"channel_{statistic_name}_comparison.csv\")\n",
    "\n",
    "    plt.figure(figsize=figure_size, dpi=dpi)\n",
    "    plt.bar(channel_statistics_df.index, channel_statistics_df[f\"total_{statistic_name}\"])\n",
    "    plt.title(f\"Total {statistic_name.capitalize()} Comparison for Channels\")\n",
    "    plt.xlabel(\"Channel Title\")\n",
    "    plt.ylabel(f\"Total {statistic_name.capitalize()}\")\n",
    "    plt.xticks(rotation=90)\n",
    "    plt.savefig(f\"{folder_path}/channel_{statistic_name}_comparison.png\", dpi=dpi)\n",
    "    plt.clf()\n",
    "    plt.show()\n",
    "\n",
    "for statistic_name in [\"view_count\", \"likes\", \"dislikes\", \"comments\"]:\n",
    "    plot_comparison_statistics(channels_data, statistic_name)\n"
   ]
  },
  {
   "cell_type": "code",
   "execution_count": 42,
   "metadata": {},
   "outputs": [
    {
     "data": {
      "text/plain": [
       "<Figure size 2000x1500 with 0 Axes>"
      ]
     },
     "metadata": {},
     "output_type": "display_data"
    },
    {
     "data": {
      "text/plain": [
       "<Figure size 2000x1500 with 0 Axes>"
      ]
     },
     "metadata": {},
     "output_type": "display_data"
    },
    {
     "data": {
      "text/plain": [
       "<Figure size 2000x1500 with 0 Axes>"
      ]
     },
     "metadata": {},
     "output_type": "display_data"
    },
    {
     "data": {
      "text/plain": [
       "<Figure size 2000x1500 with 0 Axes>"
      ]
     },
     "metadata": {},
     "output_type": "display_data"
    },
    {
     "data": {
      "text/plain": [
       "<Figure size 2000x1500 with 0 Axes>"
      ]
     },
     "metadata": {},
     "output_type": "display_data"
    },
    {
     "data": {
      "text/plain": [
       "<Figure size 2000x1500 with 0 Axes>"
      ]
     },
     "metadata": {},
     "output_type": "display_data"
    },
    {
     "data": {
      "text/plain": [
       "<Figure size 2000x1500 with 0 Axes>"
      ]
     },
     "metadata": {},
     "output_type": "display_data"
    },
    {
     "data": {
      "text/plain": [
       "<Figure size 2000x1500 with 0 Axes>"
      ]
     },
     "metadata": {},
     "output_type": "display_data"
    },
    {
     "data": {
      "text/plain": [
       "<Figure size 2000x1500 with 0 Axes>"
      ]
     },
     "metadata": {},
     "output_type": "display_data"
    },
    {
     "data": {
      "text/plain": [
       "<Figure size 2000x1500 with 0 Axes>"
      ]
     },
     "metadata": {},
     "output_type": "display_data"
    },
    {
     "data": {
      "text/plain": [
       "<Figure size 2000x1500 with 0 Axes>"
      ]
     },
     "metadata": {},
     "output_type": "display_data"
    },
    {
     "data": {
      "text/plain": [
       "<Figure size 2000x1500 with 0 Axes>"
      ]
     },
     "metadata": {},
     "output_type": "display_data"
    },
    {
     "data": {
      "text/plain": [
       "<Figure size 2000x1500 with 0 Axes>"
      ]
     },
     "metadata": {},
     "output_type": "display_data"
    },
    {
     "data": {
      "text/plain": [
       "<Figure size 2000x1500 with 0 Axes>"
      ]
     },
     "metadata": {},
     "output_type": "display_data"
    },
    {
     "data": {
      "text/plain": [
       "<Figure size 2000x1500 with 0 Axes>"
      ]
     },
     "metadata": {},
     "output_type": "display_data"
    },
    {
     "data": {
      "text/plain": [
       "<Figure size 2000x1500 with 0 Axes>"
      ]
     },
     "metadata": {},
     "output_type": "display_data"
    },
    {
     "data": {
      "text/plain": [
       "<Figure size 2000x1500 with 0 Axes>"
      ]
     },
     "metadata": {},
     "output_type": "display_data"
    },
    {
     "data": {
      "text/plain": [
       "<Figure size 2000x1500 with 0 Axes>"
      ]
     },
     "metadata": {},
     "output_type": "display_data"
    },
    {
     "data": {
      "text/plain": [
       "<Figure size 2000x1500 with 0 Axes>"
      ]
     },
     "metadata": {},
     "output_type": "display_data"
    },
    {
     "data": {
      "text/plain": [
       "<Figure size 2000x1500 with 0 Axes>"
      ]
     },
     "metadata": {},
     "output_type": "display_data"
    },
    {
     "data": {
      "text/plain": [
       "<Figure size 2000x1500 with 0 Axes>"
      ]
     },
     "metadata": {},
     "output_type": "display_data"
    },
    {
     "data": {
      "text/plain": [
       "<Figure size 2000x1500 with 0 Axes>"
      ]
     },
     "metadata": {},
     "output_type": "display_data"
    },
    {
     "data": {
      "text/plain": [
       "<Figure size 2000x1500 with 0 Axes>"
      ]
     },
     "metadata": {},
     "output_type": "display_data"
    },
    {
     "data": {
      "text/plain": [
       "<Figure size 2000x1500 with 0 Axes>"
      ]
     },
     "metadata": {},
     "output_type": "display_data"
    },
    {
     "data": {
      "text/plain": [
       "<Figure size 2000x1500 with 0 Axes>"
      ]
     },
     "metadata": {},
     "output_type": "display_data"
    },
    {
     "data": {
      "text/plain": [
       "<Figure size 2000x1500 with 0 Axes>"
      ]
     },
     "metadata": {},
     "output_type": "display_data"
    },
    {
     "data": {
      "text/plain": [
       "<Figure size 2000x1500 with 0 Axes>"
      ]
     },
     "metadata": {},
     "output_type": "display_data"
    },
    {
     "data": {
      "text/plain": [
       "<Figure size 2000x1500 with 0 Axes>"
      ]
     },
     "metadata": {},
     "output_type": "display_data"
    },
    {
     "data": {
      "text/plain": [
       "<Figure size 2000x1500 with 0 Axes>"
      ]
     },
     "metadata": {},
     "output_type": "display_data"
    },
    {
     "data": {
      "text/plain": [
       "<Figure size 2000x1500 with 0 Axes>"
      ]
     },
     "metadata": {},
     "output_type": "display_data"
    },
    {
     "data": {
      "text/plain": [
       "<Figure size 2000x1500 with 0 Axes>"
      ]
     },
     "metadata": {},
     "output_type": "display_data"
    },
    {
     "data": {
      "text/plain": [
       "<Figure size 2000x1500 with 0 Axes>"
      ]
     },
     "metadata": {},
     "output_type": "display_data"
    },
    {
     "data": {
      "text/plain": [
       "<Figure size 2000x1500 with 0 Axes>"
      ]
     },
     "metadata": {},
     "output_type": "display_data"
    },
    {
     "data": {
      "text/plain": [
       "<Figure size 2000x1500 with 0 Axes>"
      ]
     },
     "metadata": {},
     "output_type": "display_data"
    },
    {
     "data": {
      "text/plain": [
       "<Figure size 2000x1500 with 0 Axes>"
      ]
     },
     "metadata": {},
     "output_type": "display_data"
    },
    {
     "data": {
      "text/plain": [
       "<Figure size 2000x1500 with 0 Axes>"
      ]
     },
     "metadata": {},
     "output_type": "display_data"
    },
    {
     "data": {
      "text/plain": [
       "<Figure size 2000x1500 with 0 Axes>"
      ]
     },
     "metadata": {},
     "output_type": "display_data"
    },
    {
     "data": {
      "text/plain": [
       "<Figure size 2000x1500 with 0 Axes>"
      ]
     },
     "metadata": {},
     "output_type": "display_data"
    },
    {
     "data": {
      "text/plain": [
       "<Figure size 2000x1500 with 0 Axes>"
      ]
     },
     "metadata": {},
     "output_type": "display_data"
    },
    {
     "data": {
      "text/plain": [
       "<Figure size 2000x1500 with 0 Axes>"
      ]
     },
     "metadata": {},
     "output_type": "display_data"
    },
    {
     "data": {
      "text/plain": [
       "<Figure size 2000x1500 with 0 Axes>"
      ]
     },
     "metadata": {},
     "output_type": "display_data"
    },
    {
     "data": {
      "text/plain": [
       "<Figure size 2000x1500 with 0 Axes>"
      ]
     },
     "metadata": {},
     "output_type": "display_data"
    },
    {
     "data": {
      "text/plain": [
       "<Figure size 2000x1500 with 0 Axes>"
      ]
     },
     "metadata": {},
     "output_type": "display_data"
    },
    {
     "data": {
      "text/plain": [
       "<Figure size 2000x1500 with 0 Axes>"
      ]
     },
     "metadata": {},
     "output_type": "display_data"
    },
    {
     "data": {
      "text/plain": [
       "<Figure size 2000x1500 with 0 Axes>"
      ]
     },
     "metadata": {},
     "output_type": "display_data"
    },
    {
     "data": {
      "text/plain": [
       "<Figure size 2000x1500 with 0 Axes>"
      ]
     },
     "metadata": {},
     "output_type": "display_data"
    },
    {
     "data": {
      "text/plain": [
       "<Figure size 2000x1500 with 0 Axes>"
      ]
     },
     "metadata": {},
     "output_type": "display_data"
    },
    {
     "data": {
      "text/plain": [
       "<Figure size 2000x1500 with 0 Axes>"
      ]
     },
     "metadata": {},
     "output_type": "display_data"
    },
    {
     "data": {
      "text/plain": [
       "<Figure size 2000x1500 with 0 Axes>"
      ]
     },
     "metadata": {},
     "output_type": "display_data"
    },
    {
     "data": {
      "text/plain": [
       "<Figure size 2000x1500 with 0 Axes>"
      ]
     },
     "metadata": {},
     "output_type": "display_data"
    },
    {
     "data": {
      "text/plain": [
       "<Figure size 2000x1500 with 0 Axes>"
      ]
     },
     "metadata": {},
     "output_type": "display_data"
    },
    {
     "data": {
      "text/plain": [
       "<Figure size 2000x1500 with 0 Axes>"
      ]
     },
     "metadata": {},
     "output_type": "display_data"
    },
    {
     "data": {
      "text/plain": [
       "<Figure size 2000x1500 with 0 Axes>"
      ]
     },
     "metadata": {},
     "output_type": "display_data"
    },
    {
     "data": {
      "text/plain": [
       "<Figure size 2000x1500 with 0 Axes>"
      ]
     },
     "metadata": {},
     "output_type": "display_data"
    },
    {
     "data": {
      "text/plain": [
       "<Figure size 2000x1500 with 0 Axes>"
      ]
     },
     "metadata": {},
     "output_type": "display_data"
    },
    {
     "data": {
      "text/plain": [
       "<Figure size 2000x1500 with 0 Axes>"
      ]
     },
     "metadata": {},
     "output_type": "display_data"
    },
    {
     "data": {
      "text/plain": [
       "<Figure size 2000x1500 with 0 Axes>"
      ]
     },
     "metadata": {},
     "output_type": "display_data"
    },
    {
     "data": {
      "text/plain": [
       "<Figure size 2000x1500 with 0 Axes>"
      ]
     },
     "metadata": {},
     "output_type": "display_data"
    },
    {
     "data": {
      "text/plain": [
       "<Figure size 2000x1500 with 0 Axes>"
      ]
     },
     "metadata": {},
     "output_type": "display_data"
    },
    {
     "data": {
      "text/plain": [
       "<Figure size 2000x1500 with 0 Axes>"
      ]
     },
     "metadata": {},
     "output_type": "display_data"
    },
    {
     "data": {
      "text/plain": [
       "<Figure size 2000x1500 with 0 Axes>"
      ]
     },
     "metadata": {},
     "output_type": "display_data"
    },
    {
     "data": {
      "text/plain": [
       "<Figure size 2000x1500 with 0 Axes>"
      ]
     },
     "metadata": {},
     "output_type": "display_data"
    },
    {
     "data": {
      "text/plain": [
       "<Figure size 2000x1500 with 0 Axes>"
      ]
     },
     "metadata": {},
     "output_type": "display_data"
    },
    {
     "data": {
      "text/plain": [
       "<Figure size 2000x1500 with 0 Axes>"
      ]
     },
     "metadata": {},
     "output_type": "display_data"
    },
    {
     "data": {
      "text/plain": [
       "<Figure size 2000x1500 with 0 Axes>"
      ]
     },
     "metadata": {},
     "output_type": "display_data"
    },
    {
     "data": {
      "text/plain": [
       "<Figure size 2000x1500 with 0 Axes>"
      ]
     },
     "metadata": {},
     "output_type": "display_data"
    },
    {
     "data": {
      "text/plain": [
       "<Figure size 2000x1500 with 0 Axes>"
      ]
     },
     "metadata": {},
     "output_type": "display_data"
    },
    {
     "data": {
      "text/plain": [
       "<Figure size 2000x1500 with 0 Axes>"
      ]
     },
     "metadata": {},
     "output_type": "display_data"
    }
   ],
   "source": [
    "# Group videos by channel_title\n",
    "grouped_videos = videos_df.groupby(\"channel_title\")\n",
    "\n",
    "# Create the channels_data dictionary\n",
    "channels_data = {}\n",
    "for channel_title, group in grouped_videos:\n",
    "    channels_data[channel_title] = {\"videos\": group}\n",
    "\n",
    "# Apply the functions to the grouped data\n",
    "for channel_title, data in channels_data.items():\n",
    "    for statistic_name in [\"view_count\", \"likes\", \"dislikes\", \"comments\"]:\n",
    "        plot_channel_statistics(data[\"videos\"], channel_title, statistic_name)\n",
    "        plot_video_category_statistics(data[\"videos\"], channel_title, statistic_name)\n",
    "\n",
    "for statistic_name in [\"view_count\", \"likes\", \"dislikes\", \"comments\"]:\n",
    "    plot_comparison_statistics(channels_data, statistic_name)\n"
   ]
  },
  {
   "cell_type": "code",
   "execution_count": null,
   "metadata": {},
   "outputs": [],
   "source": []
  }
 ],
 "metadata": {
  "kernelspec": {
   "display_name": "project",
   "language": "python",
   "name": "python3"
  },
  "language_info": {
   "codemirror_mode": {
    "name": "ipython",
    "version": 3
   },
   "file_extension": ".py",
   "mimetype": "text/x-python",
   "name": "python",
   "nbconvert_exporter": "python",
   "pygments_lexer": "ipython3",
   "version": "3.10.11"
  },
  "orig_nbformat": 4
 },
 "nbformat": 4,
 "nbformat_minor": 2
}

{
 "cells": [
  {
   "cell_type": "code",
   "execution_count": 13,
   "metadata": {},
   "outputs": [],
   "source": [
    "import pandas as pd\n",
    "import numpy as np\n",
    "import matplotlib.pyplot as plt\n",
    "import os\n",
    "import re"
   ]
  },
  {
   "cell_type": "code",
   "execution_count": 14,
   "metadata": {},
   "outputs": [],
   "source": [
    "channels_df = pd.read_csv(r\"Datasets/channels.csv\")\n",
    "playlists_df = pd.read_csv(r'Datasets/playlists.csv')\n",
    "videos_df = pd.read_csv(r'Datasets/videos.csv')"
   ]
  },
  {
   "cell_type": "code",
   "execution_count": 15,
   "metadata": {},
   "outputs": [
    {
     "data": {
      "text/plain": [
       "((10, 12), (150, 5), (509, 12))"
      ]
     },
     "execution_count": 15,
     "metadata": {},
     "output_type": "execute_result"
    }
   ],
   "source": [
    "channels_df.shape,  playlists_df.shape, videos_df.shape"
   ]
  },
  {
   "cell_type": "code",
   "execution_count": 16,
   "metadata": {},
   "outputs": [
    {
     "data": {
      "text/plain": [
       "channel_id           0\n",
       "channel_title        0\n",
       "description          1\n",
       "published_at         0\n",
       "thumbnail_url        0\n",
       "country              1\n",
       "playlist_likes      10\n",
       "playlist_uploads     0\n",
       "view_count           0\n",
       "subscriber_count     0\n",
       "video_count          0\n",
       "topic_ids            0\n",
       "dtype: int64"
      ]
     },
     "execution_count": 16,
     "metadata": {},
     "output_type": "execute_result"
    }
   ],
   "source": [
    "channels_df.isnull().sum()"
   ]
  },
  {
   "cell_type": "code",
   "execution_count": 17,
   "metadata": {},
   "outputs": [
    {
     "data": {
      "text/plain": [
       "playlist_id          0\n",
       "playlist_title       0\n",
       "published_at         0\n",
       "video_count          0\n",
       "playlist_duration    0\n",
       "dtype: int64"
      ]
     },
     "execution_count": 17,
     "metadata": {},
     "output_type": "execute_result"
    }
   ],
   "source": [
    "playlists_df.isnull().sum()"
   ]
  },
  {
   "cell_type": "code",
   "execution_count": 18,
   "metadata": {},
   "outputs": [
    {
     "data": {
      "text/plain": [
       "video_id                0\n",
       "video_title             0\n",
       "published_at            0\n",
       "channel_id              0\n",
       "channel_title           0\n",
       "video_duration          0\n",
       "video_view_count        0\n",
       "video_likes             0\n",
       "video_dislikes          0\n",
       "video_comments          0\n",
       "video_category_id       0\n",
       "video_live_streaming    0\n",
       "dtype: int64"
      ]
     },
     "execution_count": 18,
     "metadata": {},
     "output_type": "execute_result"
    }
   ],
   "source": [
    "\n",
    "videos_df.isnull().sum()"
   ]
  },
  {
   "cell_type": "code",
   "execution_count": 19,
   "metadata": {},
   "outputs": [
    {
     "data": {
      "text/html": [
       "<div>\n",
       "<style scoped>\n",
       "    .dataframe tbody tr th:only-of-type {\n",
       "        vertical-align: middle;\n",
       "    }\n",
       "\n",
       "    .dataframe tbody tr th {\n",
       "        vertical-align: top;\n",
       "    }\n",
       "\n",
       "    .dataframe thead th {\n",
       "        text-align: right;\n",
       "    }\n",
       "</style>\n",
       "<table border=\"1\" class=\"dataframe\">\n",
       "  <thead>\n",
       "    <tr style=\"text-align: right;\">\n",
       "      <th></th>\n",
       "      <th>channel_id</th>\n",
       "      <th>channel_title</th>\n",
       "      <th>description</th>\n",
       "      <th>published_at</th>\n",
       "      <th>thumbnail_url</th>\n",
       "      <th>country</th>\n",
       "      <th>playlist_likes</th>\n",
       "      <th>playlist_uploads</th>\n",
       "      <th>view_count</th>\n",
       "      <th>subscriber_count</th>\n",
       "      <th>video_count</th>\n",
       "      <th>topic_ids</th>\n",
       "    </tr>\n",
       "  </thead>\n",
       "  <tbody>\n",
       "    <tr>\n",
       "      <th>0</th>\n",
       "      <td>UCX6OQ3DkcsbYNE6H8uQQuVA</td>\n",
       "      <td>MrBeast</td>\n",
       "      <td>SUBSCRIBE FOR A COOKIE!\\nAccomplishments\\n- Ra...</td>\n",
       "      <td>2012-02-20T00:43:50Z</td>\n",
       "      <td>https://yt3.ggpht.com/ytc/AGIKgqNRr7IEdQ7TplsO...</td>\n",
       "      <td>US</td>\n",
       "      <td>NaN</td>\n",
       "      <td>UUX6OQ3DkcsbYNE6H8uQQuVA</td>\n",
       "      <td>27174742457</td>\n",
       "      <td>160000000</td>\n",
       "      <td>739</td>\n",
       "      <td>['/m/019_rr', '/m/07c1v', '/m/02jjt']</td>\n",
       "    </tr>\n",
       "    <tr>\n",
       "      <th>1</th>\n",
       "      <td>UCIPPMRA040LQr5QPyJEbmXA</td>\n",
       "      <td>MrBeast Gaming</td>\n",
       "      <td>MrBeast Gaming - SUBSCRIBE OR ELSE</td>\n",
       "      <td>2020-04-07T18:46:13.80072Z</td>\n",
       "      <td>https://yt3.ggpht.com/ytc/AGIKgqMsDw267EtHsB0v...</td>\n",
       "      <td>US</td>\n",
       "      <td>NaN</td>\n",
       "      <td>UUIPPMRA040LQr5QPyJEbmXA</td>\n",
       "      <td>5817954501</td>\n",
       "      <td>33600000</td>\n",
       "      <td>139</td>\n",
       "      <td>['/m/025zzc', '/m/0403l3g', '/m/03hf_rm', '/m/...</td>\n",
       "    </tr>\n",
       "    <tr>\n",
       "      <th>2</th>\n",
       "      <td>UCUaT_39o1x6qWjz7K2pWcgw</td>\n",
       "      <td>Beast Reacts</td>\n",
       "      <td>SUBSCRIBE FOR A COOKIE\\nMrBeast and Chris reac...</td>\n",
       "      <td>2016-04-24T20:43:46Z</td>\n",
       "      <td>https://yt3.ggpht.com/ytc/AGIKgqPCyU7sSAwA5ZUp...</td>\n",
       "      <td>US</td>\n",
       "      <td>NaN</td>\n",
       "      <td>UUUaT_39o1x6qWjz7K2pWcgw</td>\n",
       "      <td>4172163445</td>\n",
       "      <td>25700000</td>\n",
       "      <td>241</td>\n",
       "      <td>['/m/019_rr', '/m/02jjt', '/m/07c1v']</td>\n",
       "    </tr>\n",
       "    <tr>\n",
       "      <th>3</th>\n",
       "      <td>UC4-79UOlP48-QNGgCko5p2g</td>\n",
       "      <td>MrBeast 2</td>\n",
       "      <td>my second channel for other videos and shorts ...</td>\n",
       "      <td>2020-08-21T19:46:50.808253Z</td>\n",
       "      <td>https://yt3.ggpht.com/J7ANRfVmkOdP44qDLCaPuUtA...</td>\n",
       "      <td>US</td>\n",
       "      <td>NaN</td>\n",
       "      <td>UU4-79UOlP48-QNGgCko5p2g</td>\n",
       "      <td>4335079264</td>\n",
       "      <td>26000000</td>\n",
       "      <td>111</td>\n",
       "      <td>['/m/019_rr', '/m/02jjt']</td>\n",
       "    </tr>\n",
       "    <tr>\n",
       "      <th>4</th>\n",
       "      <td>UC-lHJZR3Gqxm24_Vd_AJ5Yw</td>\n",
       "      <td>PewDiePie</td>\n",
       "      <td>I make videos.</td>\n",
       "      <td>2010-04-29T10:54:00Z</td>\n",
       "      <td>https://yt3.ggpht.com/5oUY3tashyxfqsjO5SGhjT4d...</td>\n",
       "      <td>JP</td>\n",
       "      <td>NaN</td>\n",
       "      <td>UU-lHJZR3Gqxm24_Vd_AJ5Yw</td>\n",
       "      <td>29021249810</td>\n",
       "      <td>111000000</td>\n",
       "      <td>4714</td>\n",
       "      <td>['/m/02ntfj', '/m/0403l3g', '/m/0bzvm2', '/m/0...</td>\n",
       "    </tr>\n",
       "    <tr>\n",
       "      <th>5</th>\n",
       "      <td>UCBJycsmduvYEL83R_U4JriQ</td>\n",
       "      <td>Marques Brownlee</td>\n",
       "      <td>MKBHD: Quality Tech Videos | YouTuber | Geek |...</td>\n",
       "      <td>2008-03-21T15:25:54Z</td>\n",
       "      <td>https://yt3.ggpht.com/lkH37D712tiyphnu0Id0D5Mw...</td>\n",
       "      <td>US</td>\n",
       "      <td>NaN</td>\n",
       "      <td>UUBJycsmduvYEL83R_U4JriQ</td>\n",
       "      <td>3562835404</td>\n",
       "      <td>17100000</td>\n",
       "      <td>1556</td>\n",
       "      <td>['/m/019_rr', '/m/07c1v']</td>\n",
       "    </tr>\n",
       "    <tr>\n",
       "      <th>6</th>\n",
       "      <td>UCmDTrq0LNgPodDOFZiSbsww</td>\n",
       "      <td>xQc</td>\n",
       "      <td>My personal YouTube channel. Guides and highli...</td>\n",
       "      <td>2015-03-08T22:03:48Z</td>\n",
       "      <td>https://yt3.ggpht.com/hpM847jO7S4k41eWMFSlRc1N...</td>\n",
       "      <td>CA</td>\n",
       "      <td>NaN</td>\n",
       "      <td>UUmDTrq0LNgPodDOFZiSbsww</td>\n",
       "      <td>1528351158</td>\n",
       "      <td>2280000</td>\n",
       "      <td>4877</td>\n",
       "      <td>['/m/0403l3g', '/m/0bzvm2', '/m/02ntfj', '/m/0...</td>\n",
       "    </tr>\n",
       "    <tr>\n",
       "      <th>7</th>\n",
       "      <td>UCiGm_E4ZwYSHV3bcW1pnSeQ</td>\n",
       "      <td>Billie Eilish</td>\n",
       "      <td>NaN</td>\n",
       "      <td>2013-02-06T23:21:04Z</td>\n",
       "      <td>https://yt3.ggpht.com/ytc/AGIKgqOE2odAevc22sdC...</td>\n",
       "      <td>US</td>\n",
       "      <td>NaN</td>\n",
       "      <td>UUiGm_E4ZwYSHV3bcW1pnSeQ</td>\n",
       "      <td>13513064757</td>\n",
       "      <td>47800000</td>\n",
       "      <td>54</td>\n",
       "      <td>['/m/04rlf', '/m/064t9', '/m/05rwpb']</td>\n",
       "    </tr>\n",
       "    <tr>\n",
       "      <th>8</th>\n",
       "      <td>UC3gNmTGu-TTbFPpfSs5kNkg</td>\n",
       "      <td>Movieclips</td>\n",
       "      <td>Rotten Tomatoes MOVIECLIPS is the largest coll...</td>\n",
       "      <td>2006-04-28T00:02:37Z</td>\n",
       "      <td>https://yt3.ggpht.com/QSCDnr5KmYElRp-zYpdW-txk...</td>\n",
       "      <td>US</td>\n",
       "      <td>NaN</td>\n",
       "      <td>UU3gNmTGu-TTbFPpfSs5kNkg</td>\n",
       "      <td>59265491396</td>\n",
       "      <td>59400000</td>\n",
       "      <td>38939</td>\n",
       "      <td>['/m/02vxn', '/m/02jjt', '/m/0f2f9']</td>\n",
       "    </tr>\n",
       "    <tr>\n",
       "      <th>9</th>\n",
       "      <td>UCqECaJ8Gagnn7YCbPEzWH6g</td>\n",
       "      <td>Taylor Swift</td>\n",
       "      <td>I'm the problem, it's me\\n</td>\n",
       "      <td>2006-09-20T21:05:35Z</td>\n",
       "      <td>https://yt3.ggpht.com/8IG_vczSZLUYnDvfHFusOMdI...</td>\n",
       "      <td>NaN</td>\n",
       "      <td>NaN</td>\n",
       "      <td>UUqECaJ8Gagnn7YCbPEzWH6g</td>\n",
       "      <td>29449124814</td>\n",
       "      <td>52300000</td>\n",
       "      <td>214</td>\n",
       "      <td>['/m/04rlf', '/m/064t9']</td>\n",
       "    </tr>\n",
       "  </tbody>\n",
       "</table>\n",
       "</div>"
      ],
      "text/plain": [
       "                 channel_id     channel_title  \\\n",
       "0  UCX6OQ3DkcsbYNE6H8uQQuVA           MrBeast   \n",
       "1  UCIPPMRA040LQr5QPyJEbmXA    MrBeast Gaming   \n",
       "2  UCUaT_39o1x6qWjz7K2pWcgw      Beast Reacts   \n",
       "3  UC4-79UOlP48-QNGgCko5p2g         MrBeast 2   \n",
       "4  UC-lHJZR3Gqxm24_Vd_AJ5Yw         PewDiePie   \n",
       "5  UCBJycsmduvYEL83R_U4JriQ  Marques Brownlee   \n",
       "6  UCmDTrq0LNgPodDOFZiSbsww               xQc   \n",
       "7  UCiGm_E4ZwYSHV3bcW1pnSeQ     Billie Eilish   \n",
       "8  UC3gNmTGu-TTbFPpfSs5kNkg        Movieclips   \n",
       "9  UCqECaJ8Gagnn7YCbPEzWH6g      Taylor Swift   \n",
       "\n",
       "                                         description  \\\n",
       "0  SUBSCRIBE FOR A COOKIE!\\nAccomplishments\\n- Ra...   \n",
       "1                 MrBeast Gaming - SUBSCRIBE OR ELSE   \n",
       "2  SUBSCRIBE FOR A COOKIE\\nMrBeast and Chris reac...   \n",
       "3  my second channel for other videos and shorts ...   \n",
       "4                                     I make videos.   \n",
       "5  MKBHD: Quality Tech Videos | YouTuber | Geek |...   \n",
       "6  My personal YouTube channel. Guides and highli...   \n",
       "7                                                NaN   \n",
       "8  Rotten Tomatoes MOVIECLIPS is the largest coll...   \n",
       "9                         I'm the problem, it's me\\n   \n",
       "\n",
       "                  published_at  \\\n",
       "0         2012-02-20T00:43:50Z   \n",
       "1   2020-04-07T18:46:13.80072Z   \n",
       "2         2016-04-24T20:43:46Z   \n",
       "3  2020-08-21T19:46:50.808253Z   \n",
       "4         2010-04-29T10:54:00Z   \n",
       "5         2008-03-21T15:25:54Z   \n",
       "6         2015-03-08T22:03:48Z   \n",
       "7         2013-02-06T23:21:04Z   \n",
       "8         2006-04-28T00:02:37Z   \n",
       "9         2006-09-20T21:05:35Z   \n",
       "\n",
       "                                       thumbnail_url country  playlist_likes  \\\n",
       "0  https://yt3.ggpht.com/ytc/AGIKgqNRr7IEdQ7TplsO...      US             NaN   \n",
       "1  https://yt3.ggpht.com/ytc/AGIKgqMsDw267EtHsB0v...      US             NaN   \n",
       "2  https://yt3.ggpht.com/ytc/AGIKgqPCyU7sSAwA5ZUp...      US             NaN   \n",
       "3  https://yt3.ggpht.com/J7ANRfVmkOdP44qDLCaPuUtA...      US             NaN   \n",
       "4  https://yt3.ggpht.com/5oUY3tashyxfqsjO5SGhjT4d...      JP             NaN   \n",
       "5  https://yt3.ggpht.com/lkH37D712tiyphnu0Id0D5Mw...      US             NaN   \n",
       "6  https://yt3.ggpht.com/hpM847jO7S4k41eWMFSlRc1N...      CA             NaN   \n",
       "7  https://yt3.ggpht.com/ytc/AGIKgqOE2odAevc22sdC...      US             NaN   \n",
       "8  https://yt3.ggpht.com/QSCDnr5KmYElRp-zYpdW-txk...      US             NaN   \n",
       "9  https://yt3.ggpht.com/8IG_vczSZLUYnDvfHFusOMdI...     NaN             NaN   \n",
       "\n",
       "           playlist_uploads   view_count  subscriber_count  video_count  \\\n",
       "0  UUX6OQ3DkcsbYNE6H8uQQuVA  27174742457         160000000          739   \n",
       "1  UUIPPMRA040LQr5QPyJEbmXA   5817954501          33600000          139   \n",
       "2  UUUaT_39o1x6qWjz7K2pWcgw   4172163445          25700000          241   \n",
       "3  UU4-79UOlP48-QNGgCko5p2g   4335079264          26000000          111   \n",
       "4  UU-lHJZR3Gqxm24_Vd_AJ5Yw  29021249810         111000000         4714   \n",
       "5  UUBJycsmduvYEL83R_U4JriQ   3562835404          17100000         1556   \n",
       "6  UUmDTrq0LNgPodDOFZiSbsww   1528351158           2280000         4877   \n",
       "7  UUiGm_E4ZwYSHV3bcW1pnSeQ  13513064757          47800000           54   \n",
       "8  UU3gNmTGu-TTbFPpfSs5kNkg  59265491396          59400000        38939   \n",
       "9  UUqECaJ8Gagnn7YCbPEzWH6g  29449124814          52300000          214   \n",
       "\n",
       "                                           topic_ids  \n",
       "0              ['/m/019_rr', '/m/07c1v', '/m/02jjt']  \n",
       "1  ['/m/025zzc', '/m/0403l3g', '/m/03hf_rm', '/m/...  \n",
       "2              ['/m/019_rr', '/m/02jjt', '/m/07c1v']  \n",
       "3                          ['/m/019_rr', '/m/02jjt']  \n",
       "4  ['/m/02ntfj', '/m/0403l3g', '/m/0bzvm2', '/m/0...  \n",
       "5                          ['/m/019_rr', '/m/07c1v']  \n",
       "6  ['/m/0403l3g', '/m/0bzvm2', '/m/02ntfj', '/m/0...  \n",
       "7              ['/m/04rlf', '/m/064t9', '/m/05rwpb']  \n",
       "8               ['/m/02vxn', '/m/02jjt', '/m/0f2f9']  \n",
       "9                           ['/m/04rlf', '/m/064t9']  "
      ]
     },
     "execution_count": 19,
     "metadata": {},
     "output_type": "execute_result"
    }
   ],
   "source": [
    "channels_df"
   ]
  },
  {
   "cell_type": "code",
   "execution_count": 20,
   "metadata": {},
   "outputs": [
    {
     "data": {
      "text/html": [
       "<div>\n",
       "<style scoped>\n",
       "    .dataframe tbody tr th:only-of-type {\n",
       "        vertical-align: middle;\n",
       "    }\n",
       "\n",
       "    .dataframe tbody tr th {\n",
       "        vertical-align: top;\n",
       "    }\n",
       "\n",
       "    .dataframe thead th {\n",
       "        text-align: right;\n",
       "    }\n",
       "</style>\n",
       "<table border=\"1\" class=\"dataframe\">\n",
       "  <thead>\n",
       "    <tr style=\"text-align: right;\">\n",
       "      <th></th>\n",
       "      <th>playlist_id</th>\n",
       "      <th>playlist_title</th>\n",
       "      <th>published_at</th>\n",
       "      <th>video_count</th>\n",
       "      <th>playlist_duration</th>\n",
       "    </tr>\n",
       "  </thead>\n",
       "  <tbody>\n",
       "    <tr>\n",
       "      <th>84</th>\n",
       "      <td>PLKeR9CeyAc9bS3EZqL7eb5XheLAWR31uK</td>\n",
       "      <td>xQc Reacts to SunnyV2</td>\n",
       "      <td>2022-04-07T23:37:54Z</td>\n",
       "      <td>74</td>\n",
       "      <td>76212.0</td>\n",
       "    </tr>\n",
       "    <tr>\n",
       "      <th>120</th>\n",
       "      <td>PL86SiVwkw_ocrFIoqVwKAcumc3qAHib1o</td>\n",
       "      <td>Best Possession &amp; Exorcism Movies Playlist</td>\n",
       "      <td>2022-09-09T22:03:24Z</td>\n",
       "      <td>79</td>\n",
       "      <td>11544.0</td>\n",
       "    </tr>\n",
       "    <tr>\n",
       "      <th>17</th>\n",
       "      <td>PL8vyDhstykLlym7XN7TxFKuWEXXQdoC9f</td>\n",
       "      <td>Experiments</td>\n",
       "      <td>2022-08-25T20:18:30Z</td>\n",
       "      <td>12</td>\n",
       "      <td>5894.0</td>\n",
       "    </tr>\n",
       "    <tr>\n",
       "      <th>27</th>\n",
       "      <td>PLYH8WvNV1YEnP-0I1GhepTDq3VymHvlNT</td>\n",
       "      <td>Resident Evil Village 8</td>\n",
       "      <td>2021-05-08T12:19:04Z</td>\n",
       "      <td>6</td>\n",
       "      <td>49536.0</td>\n",
       "    </tr>\n",
       "    <tr>\n",
       "      <th>50</th>\n",
       "      <td>PLBsP89CPrMeO7uztAu6YxSB10cRMpjgiY</td>\n",
       "      <td>Retro Tech</td>\n",
       "      <td>2019-11-26T19:49:05Z</td>\n",
       "      <td>11</td>\n",
       "      <td>10942.0</td>\n",
       "    </tr>\n",
       "    <tr>\n",
       "      <th>110</th>\n",
       "      <td>PL86SiVwkw_odRfwXADxYdTMFpgu66s2k2</td>\n",
       "      <td>The Texas Chainsaw Massacre - Franchise Playlist</td>\n",
       "      <td>2023-02-22T21:48:32Z</td>\n",
       "      <td>40</td>\n",
       "      <td>6700.0</td>\n",
       "    </tr>\n",
       "    <tr>\n",
       "      <th>140</th>\n",
       "      <td>PLINj2JJM1jxNpwmOXIb2s14EHtWxyASAo</td>\n",
       "      <td>Grammy Museum Sessions</td>\n",
       "      <td>2016-01-08T16:35:31Z</td>\n",
       "      <td>3</td>\n",
       "      <td>603.0</td>\n",
       "    </tr>\n",
       "    <tr>\n",
       "      <th>45</th>\n",
       "      <td>PLYH8WvNV1YEniTaIMd95jFlqBpxR0SWJE</td>\n",
       "      <td>CRINGE TUESDAYS</td>\n",
       "      <td>2019-04-25T17:29:42Z</td>\n",
       "      <td>0</td>\n",
       "      <td>0.0</td>\n",
       "    </tr>\n",
       "    <tr>\n",
       "      <th>57</th>\n",
       "      <td>PLBsP89CPrMeN9Rq-uKFXoW-v-A3oySuHh</td>\n",
       "      <td>The BTS!</td>\n",
       "      <td>2017-03-25T01:37:10Z</td>\n",
       "      <td>2</td>\n",
       "      <td>1247.0</td>\n",
       "    </tr>\n",
       "    <tr>\n",
       "      <th>121</th>\n",
       "      <td>PL86SiVwkw_ocS0a5RztsJB9KZT7dNvk2-</td>\n",
       "      <td>The Best Horror Movie Kills Playlist</td>\n",
       "      <td>2022-09-09T00:54:21Z</td>\n",
       "      <td>53</td>\n",
       "      <td>9455.0</td>\n",
       "    </tr>\n",
       "  </tbody>\n",
       "</table>\n",
       "</div>"
      ],
      "text/plain": [
       "                            playlist_id  \\\n",
       "84   PLKeR9CeyAc9bS3EZqL7eb5XheLAWR31uK   \n",
       "120  PL86SiVwkw_ocrFIoqVwKAcumc3qAHib1o   \n",
       "17   PL8vyDhstykLlym7XN7TxFKuWEXXQdoC9f   \n",
       "27   PLYH8WvNV1YEnP-0I1GhepTDq3VymHvlNT   \n",
       "50   PLBsP89CPrMeO7uztAu6YxSB10cRMpjgiY   \n",
       "110  PL86SiVwkw_odRfwXADxYdTMFpgu66s2k2   \n",
       "140  PLINj2JJM1jxNpwmOXIb2s14EHtWxyASAo   \n",
       "45   PLYH8WvNV1YEniTaIMd95jFlqBpxR0SWJE   \n",
       "57   PLBsP89CPrMeN9Rq-uKFXoW-v-A3oySuHh   \n",
       "121  PL86SiVwkw_ocS0a5RztsJB9KZT7dNvk2-   \n",
       "\n",
       "                                       playlist_title          published_at  \\\n",
       "84                              xQc Reacts to SunnyV2  2022-04-07T23:37:54Z   \n",
       "120        Best Possession & Exorcism Movies Playlist  2022-09-09T22:03:24Z   \n",
       "17                                        Experiments  2022-08-25T20:18:30Z   \n",
       "27                            Resident Evil Village 8  2021-05-08T12:19:04Z   \n",
       "50                                         Retro Tech  2019-11-26T19:49:05Z   \n",
       "110  The Texas Chainsaw Massacre - Franchise Playlist  2023-02-22T21:48:32Z   \n",
       "140                            Grammy Museum Sessions  2016-01-08T16:35:31Z   \n",
       "45                                    CRINGE TUESDAYS  2019-04-25T17:29:42Z   \n",
       "57                                           The BTS!  2017-03-25T01:37:10Z   \n",
       "121              The Best Horror Movie Kills Playlist  2022-09-09T00:54:21Z   \n",
       "\n",
       "     video_count  playlist_duration  \n",
       "84            74            76212.0  \n",
       "120           79            11544.0  \n",
       "17            12             5894.0  \n",
       "27             6            49536.0  \n",
       "50            11            10942.0  \n",
       "110           40             6700.0  \n",
       "140            3              603.0  \n",
       "45             0                0.0  \n",
       "57             2             1247.0  \n",
       "121           53             9455.0  "
      ]
     },
     "execution_count": 20,
     "metadata": {},
     "output_type": "execute_result"
    }
   ],
   "source": [
    "playlists_df.sample(10)"
   ]
  },
  {
   "cell_type": "code",
   "execution_count": 21,
   "metadata": {},
   "outputs": [
    {
     "data": {
      "text/html": [
       "<div>\n",
       "<style scoped>\n",
       "    .dataframe tbody tr th:only-of-type {\n",
       "        vertical-align: middle;\n",
       "    }\n",
       "\n",
       "    .dataframe tbody tr th {\n",
       "        vertical-align: top;\n",
       "    }\n",
       "\n",
       "    .dataframe thead th {\n",
       "        text-align: right;\n",
       "    }\n",
       "</style>\n",
       "<table border=\"1\" class=\"dataframe\">\n",
       "  <thead>\n",
       "    <tr style=\"text-align: right;\">\n",
       "      <th></th>\n",
       "      <th>video_id</th>\n",
       "      <th>video_title</th>\n",
       "      <th>published_at</th>\n",
       "      <th>channel_id</th>\n",
       "      <th>channel_title</th>\n",
       "      <th>video_duration</th>\n",
       "      <th>video_view_count</th>\n",
       "      <th>video_likes</th>\n",
       "      <th>video_dislikes</th>\n",
       "      <th>video_comments</th>\n",
       "      <th>video_category_id</th>\n",
       "      <th>video_live_streaming</th>\n",
       "    </tr>\n",
       "  </thead>\n",
       "  <tbody>\n",
       "    <tr>\n",
       "      <th>464</th>\n",
       "      <td>sEr7bAtZ8rY</td>\n",
       "      <td>Delicate Music Video Dance Rehearsal Part 1</td>\n",
       "      <td>2018-03-13T21:28:05Z</td>\n",
       "      <td>UCqECaJ8Gagnn7YCbPEzWH6g</td>\n",
       "      <td>Taylor Swift</td>\n",
       "      <td>PT1M1S</td>\n",
       "      <td>8132561</td>\n",
       "      <td>171881</td>\n",
       "      <td>0</td>\n",
       "      <td>3799</td>\n",
       "      <td>10</td>\n",
       "      <td>{'actual_start_time': None, 'actual_end_time':...</td>\n",
       "    </tr>\n",
       "    <tr>\n",
       "      <th>332</th>\n",
       "      <td>Mwf-aziE1Ak</td>\n",
       "      <td>xQc Plays Cyberpunk 2077 - Gameplay Part 1</td>\n",
       "      <td>2020-12-10T12:39:30Z</td>\n",
       "      <td>UCmDTrq0LNgPodDOFZiSbsww</td>\n",
       "      <td>xQc</td>\n",
       "      <td>PT5H1S</td>\n",
       "      <td>786162</td>\n",
       "      <td>16535</td>\n",
       "      <td>0</td>\n",
       "      <td>1772</td>\n",
       "      <td>20</td>\n",
       "      <td>{'actual_start_time': None, 'actual_end_time':...</td>\n",
       "    </tr>\n",
       "    <tr>\n",
       "      <th>391</th>\n",
       "      <td>hiCICEx3Egk</td>\n",
       "      <td>Billie Eilish - Happier Than Ever in Spatial A...</td>\n",
       "      <td>2021-08-11T16:00:38Z</td>\n",
       "      <td>UCiGm_E4ZwYSHV3bcW1pnSeQ</td>\n",
       "      <td>Billie Eilish</td>\n",
       "      <td>PT1M29S</td>\n",
       "      <td>2182046</td>\n",
       "      <td>159747</td>\n",
       "      <td>0</td>\n",
       "      <td>5153</td>\n",
       "      <td>10</td>\n",
       "      <td>{'actual_start_time': None, 'actual_end_time':...</td>\n",
       "    </tr>\n",
       "    <tr>\n",
       "      <th>461</th>\n",
       "      <td>PWdT2ONbJbc</td>\n",
       "      <td>Taylor Swift - Livestream Announcement (8/22/1...</td>\n",
       "      <td>2019-08-15T18:06:59Z</td>\n",
       "      <td>UCqECaJ8Gagnn7YCbPEzWH6g</td>\n",
       "      <td>Taylor Swift</td>\n",
       "      <td>PT40S</td>\n",
       "      <td>13815258</td>\n",
       "      <td>79555</td>\n",
       "      <td>0</td>\n",
       "      <td>4813</td>\n",
       "      <td>10</td>\n",
       "      <td>{'actual_start_time': None, 'actual_end_time':...</td>\n",
       "    </tr>\n",
       "    <tr>\n",
       "      <th>102</th>\n",
       "      <td>Iu8ZmhRphSU</td>\n",
       "      <td>World's Fastest Workers!</td>\n",
       "      <td>2021-12-22T21:00:01Z</td>\n",
       "      <td>UCUaT_39o1x6qWjz7K2pWcgw</td>\n",
       "      <td>Beast Reacts</td>\n",
       "      <td>PT8M19S</td>\n",
       "      <td>66779328</td>\n",
       "      <td>3376912</td>\n",
       "      <td>0</td>\n",
       "      <td>24190</td>\n",
       "      <td>24</td>\n",
       "      <td>{'actual_start_time': None, 'actual_end_time':...</td>\n",
       "    </tr>\n",
       "    <tr>\n",
       "      <th>327</th>\n",
       "      <td>Q1w9jcMNf9c</td>\n",
       "      <td>AMAZING! - xQc Plays Hitman 3</td>\n",
       "      <td>2021-01-21T14:04:18Z</td>\n",
       "      <td>UCmDTrq0LNgPodDOFZiSbsww</td>\n",
       "      <td>xQc</td>\n",
       "      <td>PT3H8M45S</td>\n",
       "      <td>850896</td>\n",
       "      <td>14788</td>\n",
       "      <td>0</td>\n",
       "      <td>1252</td>\n",
       "      <td>20</td>\n",
       "      <td>{'actual_start_time': None, 'actual_end_time':...</td>\n",
       "    </tr>\n",
       "    <tr>\n",
       "      <th>384</th>\n",
       "      <td>BWTODUKlVnU</td>\n",
       "      <td>Billie Eilish: The World’s A Little Blurry — O...</td>\n",
       "      <td>2021-02-02T17:00:34Z</td>\n",
       "      <td>UCiGm_E4ZwYSHV3bcW1pnSeQ</td>\n",
       "      <td>Billie Eilish</td>\n",
       "      <td>PT2M17S</td>\n",
       "      <td>2749581</td>\n",
       "      <td>269687</td>\n",
       "      <td>0</td>\n",
       "      <td>14820</td>\n",
       "      <td>10</td>\n",
       "      <td>{'actual_start_time': None, 'actual_end_time':...</td>\n",
       "    </tr>\n",
       "    <tr>\n",
       "      <th>118</th>\n",
       "      <td>yzbeiFEUPNQ</td>\n",
       "      <td>Inside an Ice Cream Factory!</td>\n",
       "      <td>2021-06-28T20:14:23Z</td>\n",
       "      <td>UCUaT_39o1x6qWjz7K2pWcgw</td>\n",
       "      <td>Beast Reacts</td>\n",
       "      <td>PT8M3S</td>\n",
       "      <td>47657410</td>\n",
       "      <td>1080327</td>\n",
       "      <td>0</td>\n",
       "      <td>23912</td>\n",
       "      <td>24</td>\n",
       "      <td>{'actual_start_time': None, 'actual_end_time':...</td>\n",
       "    </tr>\n",
       "    <tr>\n",
       "      <th>217</th>\n",
       "      <td>Wog1Zwx9jV0</td>\n",
       "      <td>Im actually having... FUN? In MINECRAFT (hacke...</td>\n",
       "      <td>2019-06-23T16:49:52Z</td>\n",
       "      <td>UC-lHJZR3Gqxm24_Vd_AJ5Yw</td>\n",
       "      <td>PewDiePie</td>\n",
       "      <td>PT22M15S</td>\n",
       "      <td>26796072</td>\n",
       "      <td>1271421</td>\n",
       "      <td>0</td>\n",
       "      <td>99079</td>\n",
       "      <td>20</td>\n",
       "      <td>{'actual_start_time': None, 'actual_end_time':...</td>\n",
       "    </tr>\n",
       "    <tr>\n",
       "      <th>352</th>\n",
       "      <td>2pnXjQCegVc</td>\n",
       "      <td>Billie Eilish - bad guy (with Justin Bieber) [...</td>\n",
       "      <td>2019-07-11T19:10:16Z</td>\n",
       "      <td>UCiGm_E4ZwYSHV3bcW1pnSeQ</td>\n",
       "      <td>Billie Eilish</td>\n",
       "      <td>PT3M15S</td>\n",
       "      <td>46902144</td>\n",
       "      <td>2033664</td>\n",
       "      <td>0</td>\n",
       "      <td>135072</td>\n",
       "      <td>10</td>\n",
       "      <td>{'actual_start_time': None, 'actual_end_time':...</td>\n",
       "    </tr>\n",
       "    <tr>\n",
       "      <th>502</th>\n",
       "      <td>JwysY6X5DSo</td>\n",
       "      <td>xQc Reacts to Logan Paul's \"Expert\" &amp; The Bigg...</td>\n",
       "      <td>2020-11-26T14:24:10Z</td>\n",
       "      <td>UCmDTrq0LNgPodDOFZiSbsww</td>\n",
       "      <td>xQc</td>\n",
       "      <td>PT16M49S</td>\n",
       "      <td>951772</td>\n",
       "      <td>24674</td>\n",
       "      <td>0</td>\n",
       "      <td>810</td>\n",
       "      <td>20</td>\n",
       "      <td>{'actual_start_time': None, 'actual_end_time':...</td>\n",
       "    </tr>\n",
       "    <tr>\n",
       "      <th>85</th>\n",
       "      <td>TtfjkcuomT8</td>\n",
       "      <td>Best Minecraft Player vs 100 Players!</td>\n",
       "      <td>2020-06-24T16:01:53Z</td>\n",
       "      <td>UCIPPMRA040LQr5QPyJEbmXA</td>\n",
       "      <td>MrBeast Gaming</td>\n",
       "      <td>PT13M46S</td>\n",
       "      <td>53803160</td>\n",
       "      <td>1115167</td>\n",
       "      <td>0</td>\n",
       "      <td>47332</td>\n",
       "      <td>20</td>\n",
       "      <td>{'actual_start_time': None, 'actual_end_time':...</td>\n",
       "    </tr>\n",
       "    <tr>\n",
       "      <th>112</th>\n",
       "      <td>9jzUrudNUWo</td>\n",
       "      <td>Extreme Try Not To Laugh Challenge!</td>\n",
       "      <td>2021-07-29T22:00:02Z</td>\n",
       "      <td>UCUaT_39o1x6qWjz7K2pWcgw</td>\n",
       "      <td>Beast Reacts</td>\n",
       "      <td>PT8M10S</td>\n",
       "      <td>55336855</td>\n",
       "      <td>1180665</td>\n",
       "      <td>0</td>\n",
       "      <td>20308</td>\n",
       "      <td>24</td>\n",
       "      <td>{'actual_start_time': None, 'actual_end_time':...</td>\n",
       "    </tr>\n",
       "    <tr>\n",
       "      <th>374</th>\n",
       "      <td>n7VHYBkCbF4</td>\n",
       "      <td>Billie Eilish: The World’s A Little Blurry - O...</td>\n",
       "      <td>2020-12-15T17:00:14Z</td>\n",
       "      <td>UCiGm_E4ZwYSHV3bcW1pnSeQ</td>\n",
       "      <td>Billie Eilish</td>\n",
       "      <td>PT1M55S</td>\n",
       "      <td>4509702</td>\n",
       "      <td>427260</td>\n",
       "      <td>0</td>\n",
       "      <td>20372</td>\n",
       "      <td>10</td>\n",
       "      <td>{'actual_start_time': None, 'actual_end_time':...</td>\n",
       "    </tr>\n",
       "    <tr>\n",
       "      <th>460</th>\n",
       "      <td>dDO6HnY7h24</td>\n",
       "      <td>Taylor Swift - Lover's Lounge (Live)</td>\n",
       "      <td>2019-08-22T21:47:44Z</td>\n",
       "      <td>UCqECaJ8Gagnn7YCbPEzWH6g</td>\n",
       "      <td>Taylor Swift</td>\n",
       "      <td>PT33M43S</td>\n",
       "      <td>15705764</td>\n",
       "      <td>0</td>\n",
       "      <td>0</td>\n",
       "      <td>4000</td>\n",
       "      <td>10</td>\n",
       "      <td>{'actual_start_time': '2019-08-22T20:56:58Z', ...</td>\n",
       "    </tr>\n",
       "    <tr>\n",
       "      <th>264</th>\n",
       "      <td>t9R7xx0joOU</td>\n",
       "      <td>Samsung Galaxy S10 Impressions!</td>\n",
       "      <td>2019-02-20T19:30:55Z</td>\n",
       "      <td>UCBJycsmduvYEL83R_U4JriQ</td>\n",
       "      <td>Marques Brownlee</td>\n",
       "      <td>PT10M19S</td>\n",
       "      <td>10922774</td>\n",
       "      <td>234484</td>\n",
       "      <td>0</td>\n",
       "      <td>24658</td>\n",
       "      <td>28</td>\n",
       "      <td>{'actual_start_time': None, 'actual_end_time':...</td>\n",
       "    </tr>\n",
       "    <tr>\n",
       "      <th>233</th>\n",
       "      <td>XozZYCqNo8Q</td>\n",
       "      <td>Minecraft Skyblock #1</td>\n",
       "      <td>2019-07-14T15:03:25Z</td>\n",
       "      <td>UC-lHJZR3Gqxm24_Vd_AJ5Yw</td>\n",
       "      <td>PewDiePie</td>\n",
       "      <td>PT24M44S</td>\n",
       "      <td>21658779</td>\n",
       "      <td>1335820</td>\n",
       "      <td>0</td>\n",
       "      <td>77470</td>\n",
       "      <td>20</td>\n",
       "      <td>{'actual_start_time': None, 'actual_end_time':...</td>\n",
       "    </tr>\n",
       "    <tr>\n",
       "      <th>447</th>\n",
       "      <td>qIalODmFrZk</td>\n",
       "      <td>John Wick: Chapter 2 (2017) - Gun Shopping Sce...</td>\n",
       "      <td>2017-10-12T21:49:01Z</td>\n",
       "      <td>UC3gNmTGu-TTbFPpfSs5kNkg</td>\n",
       "      <td>Movieclips</td>\n",
       "      <td>PT3M27S</td>\n",
       "      <td>16203276</td>\n",
       "      <td>177848</td>\n",
       "      <td>0</td>\n",
       "      <td>8576</td>\n",
       "      <td>1</td>\n",
       "      <td>{'actual_start_time': None, 'actual_end_time':...</td>\n",
       "    </tr>\n",
       "    <tr>\n",
       "      <th>404</th>\n",
       "      <td>A_CGtuDwl-A</td>\n",
       "      <td>The Boss Baby (2017) - Catch that Baby! Scene ...</td>\n",
       "      <td>2018-11-20T21:41:46Z</td>\n",
       "      <td>UC3gNmTGu-TTbFPpfSs5kNkg</td>\n",
       "      <td>Movieclips</td>\n",
       "      <td>PT3M42S</td>\n",
       "      <td>180297497</td>\n",
       "      <td>601992</td>\n",
       "      <td>0</td>\n",
       "      <td>0</td>\n",
       "      <td>1</td>\n",
       "      <td>{'actual_start_time': None, 'actual_end_time':...</td>\n",
       "    </tr>\n",
       "    <tr>\n",
       "      <th>14</th>\n",
       "      <td>NkE0AMGzpJY</td>\n",
       "      <td>Last To Leave $800,000 Island Keeps It</td>\n",
       "      <td>2020-08-15T20:00:02Z</td>\n",
       "      <td>UCX6OQ3DkcsbYNE6H8uQQuVA</td>\n",
       "      <td>MrBeast</td>\n",
       "      <td>PT22M15S</td>\n",
       "      <td>211864992</td>\n",
       "      <td>4958039</td>\n",
       "      <td>0</td>\n",
       "      <td>229685</td>\n",
       "      <td>24</td>\n",
       "      <td>{'actual_start_time': None, 'actual_end_time':...</td>\n",
       "    </tr>\n",
       "  </tbody>\n",
       "</table>\n",
       "</div>"
      ],
      "text/plain": [
       "        video_id                                        video_title  \\\n",
       "464  sEr7bAtZ8rY        Delicate Music Video Dance Rehearsal Part 1   \n",
       "332  Mwf-aziE1Ak         xQc Plays Cyberpunk 2077 - Gameplay Part 1   \n",
       "391  hiCICEx3Egk  Billie Eilish - Happier Than Ever in Spatial A...   \n",
       "461  PWdT2ONbJbc  Taylor Swift - Livestream Announcement (8/22/1...   \n",
       "102  Iu8ZmhRphSU                           World's Fastest Workers!   \n",
       "327  Q1w9jcMNf9c                      AMAZING! - xQc Plays Hitman 3   \n",
       "384  BWTODUKlVnU  Billie Eilish: The World’s A Little Blurry — O...   \n",
       "118  yzbeiFEUPNQ                       Inside an Ice Cream Factory!   \n",
       "217  Wog1Zwx9jV0  Im actually having... FUN? In MINECRAFT (hacke...   \n",
       "352  2pnXjQCegVc  Billie Eilish - bad guy (with Justin Bieber) [...   \n",
       "502  JwysY6X5DSo  xQc Reacts to Logan Paul's \"Expert\" & The Bigg...   \n",
       "85   TtfjkcuomT8              Best Minecraft Player vs 100 Players!   \n",
       "112  9jzUrudNUWo                Extreme Try Not To Laugh Challenge!   \n",
       "374  n7VHYBkCbF4  Billie Eilish: The World’s A Little Blurry - O...   \n",
       "460  dDO6HnY7h24               Taylor Swift - Lover's Lounge (Live)   \n",
       "264  t9R7xx0joOU                    Samsung Galaxy S10 Impressions!   \n",
       "233  XozZYCqNo8Q                              Minecraft Skyblock #1   \n",
       "447  qIalODmFrZk  John Wick: Chapter 2 (2017) - Gun Shopping Sce...   \n",
       "404  A_CGtuDwl-A  The Boss Baby (2017) - Catch that Baby! Scene ...   \n",
       "14   NkE0AMGzpJY             Last To Leave $800,000 Island Keeps It   \n",
       "\n",
       "             published_at                channel_id     channel_title  \\\n",
       "464  2018-03-13T21:28:05Z  UCqECaJ8Gagnn7YCbPEzWH6g      Taylor Swift   \n",
       "332  2020-12-10T12:39:30Z  UCmDTrq0LNgPodDOFZiSbsww               xQc   \n",
       "391  2021-08-11T16:00:38Z  UCiGm_E4ZwYSHV3bcW1pnSeQ     Billie Eilish   \n",
       "461  2019-08-15T18:06:59Z  UCqECaJ8Gagnn7YCbPEzWH6g      Taylor Swift   \n",
       "102  2021-12-22T21:00:01Z  UCUaT_39o1x6qWjz7K2pWcgw      Beast Reacts   \n",
       "327  2021-01-21T14:04:18Z  UCmDTrq0LNgPodDOFZiSbsww               xQc   \n",
       "384  2021-02-02T17:00:34Z  UCiGm_E4ZwYSHV3bcW1pnSeQ     Billie Eilish   \n",
       "118  2021-06-28T20:14:23Z  UCUaT_39o1x6qWjz7K2pWcgw      Beast Reacts   \n",
       "217  2019-06-23T16:49:52Z  UC-lHJZR3Gqxm24_Vd_AJ5Yw         PewDiePie   \n",
       "352  2019-07-11T19:10:16Z  UCiGm_E4ZwYSHV3bcW1pnSeQ     Billie Eilish   \n",
       "502  2020-11-26T14:24:10Z  UCmDTrq0LNgPodDOFZiSbsww               xQc   \n",
       "85   2020-06-24T16:01:53Z  UCIPPMRA040LQr5QPyJEbmXA    MrBeast Gaming   \n",
       "112  2021-07-29T22:00:02Z  UCUaT_39o1x6qWjz7K2pWcgw      Beast Reacts   \n",
       "374  2020-12-15T17:00:14Z  UCiGm_E4ZwYSHV3bcW1pnSeQ     Billie Eilish   \n",
       "460  2019-08-22T21:47:44Z  UCqECaJ8Gagnn7YCbPEzWH6g      Taylor Swift   \n",
       "264  2019-02-20T19:30:55Z  UCBJycsmduvYEL83R_U4JriQ  Marques Brownlee   \n",
       "233  2019-07-14T15:03:25Z  UC-lHJZR3Gqxm24_Vd_AJ5Yw         PewDiePie   \n",
       "447  2017-10-12T21:49:01Z  UC3gNmTGu-TTbFPpfSs5kNkg        Movieclips   \n",
       "404  2018-11-20T21:41:46Z  UC3gNmTGu-TTbFPpfSs5kNkg        Movieclips   \n",
       "14   2020-08-15T20:00:02Z  UCX6OQ3DkcsbYNE6H8uQQuVA           MrBeast   \n",
       "\n",
       "    video_duration  video_view_count  video_likes  video_dislikes  \\\n",
       "464         PT1M1S           8132561       171881               0   \n",
       "332         PT5H1S            786162        16535               0   \n",
       "391        PT1M29S           2182046       159747               0   \n",
       "461          PT40S          13815258        79555               0   \n",
       "102        PT8M19S          66779328      3376912               0   \n",
       "327      PT3H8M45S            850896        14788               0   \n",
       "384        PT2M17S           2749581       269687               0   \n",
       "118         PT8M3S          47657410      1080327               0   \n",
       "217       PT22M15S          26796072      1271421               0   \n",
       "352        PT3M15S          46902144      2033664               0   \n",
       "502       PT16M49S            951772        24674               0   \n",
       "85        PT13M46S          53803160      1115167               0   \n",
       "112        PT8M10S          55336855      1180665               0   \n",
       "374        PT1M55S           4509702       427260               0   \n",
       "460       PT33M43S          15705764            0               0   \n",
       "264       PT10M19S          10922774       234484               0   \n",
       "233       PT24M44S          21658779      1335820               0   \n",
       "447        PT3M27S          16203276       177848               0   \n",
       "404        PT3M42S         180297497       601992               0   \n",
       "14        PT22M15S         211864992      4958039               0   \n",
       "\n",
       "     video_comments  video_category_id  \\\n",
       "464            3799                 10   \n",
       "332            1772                 20   \n",
       "391            5153                 10   \n",
       "461            4813                 10   \n",
       "102           24190                 24   \n",
       "327            1252                 20   \n",
       "384           14820                 10   \n",
       "118           23912                 24   \n",
       "217           99079                 20   \n",
       "352          135072                 10   \n",
       "502             810                 20   \n",
       "85            47332                 20   \n",
       "112           20308                 24   \n",
       "374           20372                 10   \n",
       "460            4000                 10   \n",
       "264           24658                 28   \n",
       "233           77470                 20   \n",
       "447            8576                  1   \n",
       "404               0                  1   \n",
       "14           229685                 24   \n",
       "\n",
       "                                  video_live_streaming  \n",
       "464  {'actual_start_time': None, 'actual_end_time':...  \n",
       "332  {'actual_start_time': None, 'actual_end_time':...  \n",
       "391  {'actual_start_time': None, 'actual_end_time':...  \n",
       "461  {'actual_start_time': None, 'actual_end_time':...  \n",
       "102  {'actual_start_time': None, 'actual_end_time':...  \n",
       "327  {'actual_start_time': None, 'actual_end_time':...  \n",
       "384  {'actual_start_time': None, 'actual_end_time':...  \n",
       "118  {'actual_start_time': None, 'actual_end_time':...  \n",
       "217  {'actual_start_time': None, 'actual_end_time':...  \n",
       "352  {'actual_start_time': None, 'actual_end_time':...  \n",
       "502  {'actual_start_time': None, 'actual_end_time':...  \n",
       "85   {'actual_start_time': None, 'actual_end_time':...  \n",
       "112  {'actual_start_time': None, 'actual_end_time':...  \n",
       "374  {'actual_start_time': None, 'actual_end_time':...  \n",
       "460  {'actual_start_time': '2019-08-22T20:56:58Z', ...  \n",
       "264  {'actual_start_time': None, 'actual_end_time':...  \n",
       "233  {'actual_start_time': None, 'actual_end_time':...  \n",
       "447  {'actual_start_time': None, 'actual_end_time':...  \n",
       "404  {'actual_start_time': None, 'actual_end_time':...  \n",
       "14   {'actual_start_time': None, 'actual_end_time':...  "
      ]
     },
     "execution_count": 21,
     "metadata": {},
     "output_type": "execute_result"
    }
   ],
   "source": [
    "videos_df.sample(20)"
   ]
  },
  {
   "cell_type": "code",
   "execution_count": 22,
   "metadata": {},
   "outputs": [
    {
     "data": {
      "text/plain": [
       "[Index(['channel_id', 'channel_title', 'description', 'published_at',\n",
       "        'thumbnail_url', 'country', 'playlist_likes', 'playlist_uploads',\n",
       "        'view_count', 'subscriber_count', 'video_count', 'topic_ids'],\n",
       "       dtype='object'),\n",
       " Index(['playlist_id', 'playlist_title', 'published_at', 'video_count',\n",
       "        'playlist_duration'],\n",
       "       dtype='object'),\n",
       " Index(['video_id', 'video_title', 'published_at', 'channel_id',\n",
       "        'channel_title', 'video_duration', 'video_view_count', 'video_likes',\n",
       "        'video_dislikes', 'video_comments', 'video_category_id',\n",
       "        'video_live_streaming'],\n",
       "       dtype='object')]"
      ]
     },
     "execution_count": 22,
     "metadata": {},
     "output_type": "execute_result"
    }
   ],
   "source": [
    "columns = [channels_df.columns, playlists_df.columns, videos_df.columns]\n",
    "columns"
   ]
  },
  {
   "cell_type": "code",
   "execution_count": 23,
   "metadata": {},
   "outputs": [],
   "source": [
    "figure_size = (20, 15)\n",
    "\n",
    "# Set the DPI (dots per inch) for the saved image\n",
    "dpi = 100\n",
    "def load_data():\n",
    "    channels_df = pd.read_csv(r\"Datasets/channels.csv\")\n",
    "    playlists_df = pd.read_csv(r'Datasets/playlists.csv')\n",
    "    videos_df = pd.read_csv(r'Datasets/videos.csv')\n",
    "    return channels_df, playlists_df, videos_df\n",
    "def calculate_average_engagement_rate(df):\n",
    "    return (df[\"video_likes\"].sum() / df[\"video_view_count\"].sum()) * 100\n",
    "\n",
    "def find_popular_video_categories(df):\n",
    "    return df.groupby(\"video_category_id\")[\"video_view_count\"].sum().sort_values(ascending=False)\n",
    "\n",
    "def find_upload_frequency(df):\n",
    "    df[\"published_at\"] = pd.to_datetime(df[\"published_at\"])\n",
    "    df[\"year\"] = df[\"published_at\"].dt.year\n",
    "    return df.groupby(\"year\")[\"video_id\"].count()\n",
    "\n",
    "# Set figure size in inches (width, height)\n",
    "\n",
    "def plot_channel_statistics(data, channel_title, statistic_name):\n",
    "    plt.figure(figsize=figure_size, dpi=dpi)\n",
    "    plt.hist(data[\"video_\" + statistic_name], bins=20)\n",
    "    plt.title(f\"{statistic_name.capitalize()} distribution for Channel {channel_title}\")\n",
    "    plt.xlabel(statistic_name.capitalize())\n",
    "    plt.ylabel(\"Number of videos\")\n",
    "    folder_path = f\"data_images/{channel_title}\"\n",
    "    os.makedirs(folder_path, exist_ok=True)  \n",
    "    plt.savefig(f\"{folder_path}/{channel_title}_{statistic_name}_distribution.png\", dpi=dpi)\n",
    "    plt.clf()\n",
    "\n",
    "\n",
    "\n",
    "def plot_video_category_statistics(data, channel_title, statistic_name):\n",
    "    video_categories = data.groupby(\"video_category_id\")[f\"video_{statistic_name}\"].sum()\n",
    "    plt.figure(figsize=figure_size, dpi=dpi)\n",
    "    plt.bar(video_categories.index, video_categories.values)\n",
    "    plt.title(f\"Total {statistic_name.capitalize()} per Video Category for Channel {channel_title}\")\n",
    "    plt.xlabel(\"Video Category ID\")\n",
    "    plt.ylabel(f\"Total {statistic_name.capitalize()}\")\n",
    "    folder_path = f\"data_images/{channel_title}\"\n",
    "    os.makedirs(folder_path, exist_ok=True)\n",
    "    plt.savefig(f\"{folder_path}/{channel_title}_video_category_{statistic_name}.png\", dpi=dpi)\n",
    "    plt.clf()\n",
    "\n",
    "\n",
    "\n",
    "def plot_comparison_statistics(channels_data, statistic_name):\n",
    "    channel_statistics = {channel_title: data[\"videos\"][f\"video_{statistic_name}\"].sum() for channel_title, data in channels_data.items()}\n",
    "    channel_statistics_df = pd.Series(channel_statistics).to_frame(f\"total_{statistic_name}\")\n",
    "    channel_statistics_df.to_csv(f\"channel_{statistic_name}_comparison.csv\")\n",
    "\n",
    "    plt.figure(figsize=figure_size, dpi=dpi)\n",
    "    plt.bar(channel_statistics_df.index, channel_statistics_df[f\"total_{statistic_name}\"])\n",
    "    plt.title(f\"Total {statistic_name.capitalize()} Comparison for Channels\")\n",
    "    plt.xlabel(\"Channel Title\")\n",
    "    plt.ylabel(f\"Total {statistic_name.capitalize()}\")\n",
    "    plt.xticks(rotation=90)\n",
    "    plt.savefig(f\"channel_{statistic_name}_comparison.png\", dpi=dpi)\n",
    "    plt.clf()\n",
    "\n",
    "# Step 1: Add a function to convert video_duration to seconds\n",
    "def convert_duration_to_seconds(duration):\n",
    "    pattern = re.compile(r\"PT(\\d+M)?(\\d+S)?\")\n",
    "    match = pattern.match(duration)\n",
    "    minutes = int(match.group(1)[:-1]) if match.group(1) else 0\n",
    "    seconds = int(match.group(2)[:-1]) if match.group(2) else 0\n",
    "    return 60 * minutes + seconds\n",
    "\n",
    "# Step 2: Modify the load_data function\n",
    "def load_data():\n",
    "    channels_df = pd.read_csv(r\"Datasets/channels.csv\")\n",
    "    playlists_df = pd.read_csv(r'Datasets/playlists.csv')\n",
    "    videos_df = pd.read_csv(r'Datasets/videos.csv')\n",
    "    videos_df['video_duration'] = videos_df['video_duration'].apply(convert_duration_to_seconds)\n",
    "    return channels_df, playlists_df, videos_df\n",
    "\n",
    "# Step 3: Implement the new suggestion functions\n",
    "def calculate_average_video_length(df):\n",
    "    return df[\"video_duration\"].mean()\n",
    "\n",
    "def plot_video_length_distribution(data, channel_title):\n",
    "    plt.figure(figsize=figure_size, dpi=dpi)\n",
    "    plt.hist(data[\"video_duration\"], bins=20)\n",
    "    plt.title(f\"Video Length Distribution for Channel {channel_title}\")\n",
    "    plt.xlabel(\"Video Length (seconds)\")\n",
    "    plt.ylabel(\"Number of videos\")\n",
    "    folder_path = f\"data_images/{channel_title}\"\n",
    "    os.makedirs(folder_path, exist_ok=True)  \n",
    "    plt.savefig(f\"{folder_path}/{channel_title}_video_length_distribution.png\", dpi=dpi)\n",
    "    plt.clf()\n",
    "def analyze_statistics_per_channel(channels_data, statistic_name):\n",
    "    channel_statistics = {\n",
    "        channel_title: {\n",
    "            \"sum\": data[\"videos\"][f\"video_{statistic_name}\"].sum(),\n",
    "            \"mean\": data[\"videos\"][f\"video_{statistic_name}\"].mean(),\n",
    "            \"std\": data[\"videos\"][f\"video_{statistic_name}\"].std(),\n",
    "        }\n",
    "        for channel_title, data in channels_data.items()\n",
    "    }\n",
    "    channel_statistics_df = pd.DataFrame(channel_statistics).T\n",
    "    channel_statistics_df.to_csv(f\"Datasets/channel_{statistic_name}_analysis.csv\")\n"
   ]
  },
  {
   "cell_type": "code",
   "execution_count": 24,
   "metadata": {},
   "outputs": [
    {
     "name": "stderr",
     "output_type": "stream",
     "text": [
      "C:\\Users\\Lord MZ\\AppData\\Local\\Temp\\ipykernel_34880\\277866823.py:24: RuntimeWarning: More than 20 figures have been opened. Figures created through the pyplot interface (`matplotlib.pyplot.figure`) are retained until explicitly closed and may consume too much memory. (To control this warning, see the rcParam `figure.max_open_warning`). Consider using `matplotlib.pyplot.close()`.\n",
      "  plt.figure(figsize=figure_size, dpi=dpi)\n"
     ]
    },
    {
     "data": {
      "text/plain": [
       "<Figure size 2000x1500 with 0 Axes>"
      ]
     },
     "metadata": {},
     "output_type": "display_data"
    },
    {
     "data": {
      "text/plain": [
       "<Figure size 2000x1500 with 0 Axes>"
      ]
     },
     "metadata": {},
     "output_type": "display_data"
    },
    {
     "data": {
      "text/plain": [
       "<Figure size 2000x1500 with 0 Axes>"
      ]
     },
     "metadata": {},
     "output_type": "display_data"
    },
    {
     "data": {
      "text/plain": [
       "<Figure size 2000x1500 with 0 Axes>"
      ]
     },
     "metadata": {},
     "output_type": "display_data"
    },
    {
     "data": {
      "text/plain": [
       "<Figure size 2000x1500 with 0 Axes>"
      ]
     },
     "metadata": {},
     "output_type": "display_data"
    },
    {
     "data": {
      "text/plain": [
       "<Figure size 2000x1500 with 0 Axes>"
      ]
     },
     "metadata": {},
     "output_type": "display_data"
    },
    {
     "data": {
      "text/plain": [
       "<Figure size 2000x1500 with 0 Axes>"
      ]
     },
     "metadata": {},
     "output_type": "display_data"
    },
    {
     "data": {
      "text/plain": [
       "<Figure size 2000x1500 with 0 Axes>"
      ]
     },
     "metadata": {},
     "output_type": "display_data"
    },
    {
     "data": {
      "text/plain": [
       "<Figure size 2000x1500 with 0 Axes>"
      ]
     },
     "metadata": {},
     "output_type": "display_data"
    },
    {
     "data": {
      "text/plain": [
       "<Figure size 2000x1500 with 0 Axes>"
      ]
     },
     "metadata": {},
     "output_type": "display_data"
    },
    {
     "data": {
      "text/plain": [
       "<Figure size 2000x1500 with 0 Axes>"
      ]
     },
     "metadata": {},
     "output_type": "display_data"
    },
    {
     "data": {
      "text/plain": [
       "<Figure size 2000x1500 with 0 Axes>"
      ]
     },
     "metadata": {},
     "output_type": "display_data"
    },
    {
     "data": {
      "text/plain": [
       "<Figure size 2000x1500 with 0 Axes>"
      ]
     },
     "metadata": {},
     "output_type": "display_data"
    },
    {
     "data": {
      "text/plain": [
       "<Figure size 2000x1500 with 0 Axes>"
      ]
     },
     "metadata": {},
     "output_type": "display_data"
    },
    {
     "data": {
      "text/plain": [
       "<Figure size 2000x1500 with 0 Axes>"
      ]
     },
     "metadata": {},
     "output_type": "display_data"
    },
    {
     "data": {
      "text/plain": [
       "<Figure size 2000x1500 with 0 Axes>"
      ]
     },
     "metadata": {},
     "output_type": "display_data"
    },
    {
     "data": {
      "text/plain": [
       "<Figure size 2000x1500 with 0 Axes>"
      ]
     },
     "metadata": {},
     "output_type": "display_data"
    },
    {
     "data": {
      "text/plain": [
       "<Figure size 2000x1500 with 0 Axes>"
      ]
     },
     "metadata": {},
     "output_type": "display_data"
    },
    {
     "data": {
      "text/plain": [
       "<Figure size 2000x1500 with 0 Axes>"
      ]
     },
     "metadata": {},
     "output_type": "display_data"
    },
    {
     "data": {
      "text/plain": [
       "<Figure size 2000x1500 with 0 Axes>"
      ]
     },
     "metadata": {},
     "output_type": "display_data"
    },
    {
     "data": {
      "text/plain": [
       "<Figure size 2000x1500 with 0 Axes>"
      ]
     },
     "metadata": {},
     "output_type": "display_data"
    },
    {
     "data": {
      "text/plain": [
       "<Figure size 2000x1500 with 0 Axes>"
      ]
     },
     "metadata": {},
     "output_type": "display_data"
    },
    {
     "data": {
      "text/plain": [
       "<Figure size 2000x1500 with 0 Axes>"
      ]
     },
     "metadata": {},
     "output_type": "display_data"
    },
    {
     "data": {
      "text/plain": [
       "<Figure size 2000x1500 with 0 Axes>"
      ]
     },
     "metadata": {},
     "output_type": "display_data"
    },
    {
     "data": {
      "text/plain": [
       "<Figure size 2000x1500 with 0 Axes>"
      ]
     },
     "metadata": {},
     "output_type": "display_data"
    },
    {
     "data": {
      "text/plain": [
       "<Figure size 2000x1500 with 0 Axes>"
      ]
     },
     "metadata": {},
     "output_type": "display_data"
    },
    {
     "data": {
      "text/plain": [
       "<Figure size 2000x1500 with 0 Axes>"
      ]
     },
     "metadata": {},
     "output_type": "display_data"
    },
    {
     "data": {
      "text/plain": [
       "<Figure size 2000x1500 with 0 Axes>"
      ]
     },
     "metadata": {},
     "output_type": "display_data"
    },
    {
     "data": {
      "text/plain": [
       "<Figure size 2000x1500 with 0 Axes>"
      ]
     },
     "metadata": {},
     "output_type": "display_data"
    },
    {
     "data": {
      "text/plain": [
       "<Figure size 2000x1500 with 0 Axes>"
      ]
     },
     "metadata": {},
     "output_type": "display_data"
    },
    {
     "data": {
      "text/plain": [
       "<Figure size 2000x1500 with 0 Axes>"
      ]
     },
     "metadata": {},
     "output_type": "display_data"
    },
    {
     "data": {
      "text/plain": [
       "<Figure size 2000x1500 with 0 Axes>"
      ]
     },
     "metadata": {},
     "output_type": "display_data"
    },
    {
     "data": {
      "text/plain": [
       "<Figure size 2000x1500 with 0 Axes>"
      ]
     },
     "metadata": {},
     "output_type": "display_data"
    },
    {
     "data": {
      "text/plain": [
       "<Figure size 2000x1500 with 0 Axes>"
      ]
     },
     "metadata": {},
     "output_type": "display_data"
    },
    {
     "data": {
      "text/plain": [
       "<Figure size 2000x1500 with 0 Axes>"
      ]
     },
     "metadata": {},
     "output_type": "display_data"
    },
    {
     "data": {
      "text/plain": [
       "<Figure size 2000x1500 with 0 Axes>"
      ]
     },
     "metadata": {},
     "output_type": "display_data"
    },
    {
     "data": {
      "text/plain": [
       "<Figure size 2000x1500 with 0 Axes>"
      ]
     },
     "metadata": {},
     "output_type": "display_data"
    },
    {
     "data": {
      "text/plain": [
       "<Figure size 2000x1500 with 0 Axes>"
      ]
     },
     "metadata": {},
     "output_type": "display_data"
    },
    {
     "data": {
      "text/plain": [
       "<Figure size 2000x1500 with 0 Axes>"
      ]
     },
     "metadata": {},
     "output_type": "display_data"
    },
    {
     "data": {
      "text/plain": [
       "<Figure size 2000x1500 with 0 Axes>"
      ]
     },
     "metadata": {},
     "output_type": "display_data"
    },
    {
     "data": {
      "text/plain": [
       "<Figure size 2000x1500 with 0 Axes>"
      ]
     },
     "metadata": {},
     "output_type": "display_data"
    },
    {
     "data": {
      "text/plain": [
       "<Figure size 2000x1500 with 0 Axes>"
      ]
     },
     "metadata": {},
     "output_type": "display_data"
    },
    {
     "data": {
      "text/plain": [
       "<Figure size 2000x1500 with 0 Axes>"
      ]
     },
     "metadata": {},
     "output_type": "display_data"
    },
    {
     "data": {
      "text/plain": [
       "<Figure size 2000x1500 with 0 Axes>"
      ]
     },
     "metadata": {},
     "output_type": "display_data"
    },
    {
     "data": {
      "text/plain": [
       "<Figure size 2000x1500 with 0 Axes>"
      ]
     },
     "metadata": {},
     "output_type": "display_data"
    },
    {
     "data": {
      "text/plain": [
       "<Figure size 2000x1500 with 0 Axes>"
      ]
     },
     "metadata": {},
     "output_type": "display_data"
    },
    {
     "data": {
      "text/plain": [
       "<Figure size 2000x1500 with 0 Axes>"
      ]
     },
     "metadata": {},
     "output_type": "display_data"
    },
    {
     "data": {
      "text/plain": [
       "<Figure size 2000x1500 with 0 Axes>"
      ]
     },
     "metadata": {},
     "output_type": "display_data"
    },
    {
     "data": {
      "text/plain": [
       "<Figure size 2000x1500 with 0 Axes>"
      ]
     },
     "metadata": {},
     "output_type": "display_data"
    },
    {
     "data": {
      "text/plain": [
       "<Figure size 2000x1500 with 0 Axes>"
      ]
     },
     "metadata": {},
     "output_type": "display_data"
    },
    {
     "data": {
      "text/plain": [
       "<Figure size 2000x1500 with 0 Axes>"
      ]
     },
     "metadata": {},
     "output_type": "display_data"
    },
    {
     "data": {
      "text/plain": [
       "<Figure size 2000x1500 with 0 Axes>"
      ]
     },
     "metadata": {},
     "output_type": "display_data"
    },
    {
     "data": {
      "text/plain": [
       "<Figure size 2000x1500 with 0 Axes>"
      ]
     },
     "metadata": {},
     "output_type": "display_data"
    },
    {
     "data": {
      "text/plain": [
       "<Figure size 2000x1500 with 0 Axes>"
      ]
     },
     "metadata": {},
     "output_type": "display_data"
    },
    {
     "data": {
      "text/plain": [
       "<Figure size 2000x1500 with 0 Axes>"
      ]
     },
     "metadata": {},
     "output_type": "display_data"
    },
    {
     "data": {
      "text/plain": [
       "<Figure size 2000x1500 with 0 Axes>"
      ]
     },
     "metadata": {},
     "output_type": "display_data"
    },
    {
     "data": {
      "text/plain": [
       "<Figure size 2000x1500 with 0 Axes>"
      ]
     },
     "metadata": {},
     "output_type": "display_data"
    },
    {
     "data": {
      "text/plain": [
       "<Figure size 2000x1500 with 0 Axes>"
      ]
     },
     "metadata": {},
     "output_type": "display_data"
    },
    {
     "data": {
      "text/plain": [
       "<Figure size 2000x1500 with 0 Axes>"
      ]
     },
     "metadata": {},
     "output_type": "display_data"
    },
    {
     "data": {
      "text/plain": [
       "<Figure size 2000x1500 with 0 Axes>"
      ]
     },
     "metadata": {},
     "output_type": "display_data"
    },
    {
     "data": {
      "text/plain": [
       "<Figure size 2000x1500 with 0 Axes>"
      ]
     },
     "metadata": {},
     "output_type": "display_data"
    },
    {
     "data": {
      "text/plain": [
       "<Figure size 2000x1500 with 0 Axes>"
      ]
     },
     "metadata": {},
     "output_type": "display_data"
    },
    {
     "data": {
      "text/plain": [
       "<Figure size 2000x1500 with 0 Axes>"
      ]
     },
     "metadata": {},
     "output_type": "display_data"
    },
    {
     "data": {
      "text/plain": [
       "<Figure size 2000x1500 with 0 Axes>"
      ]
     },
     "metadata": {},
     "output_type": "display_data"
    },
    {
     "data": {
      "text/plain": [
       "<Figure size 2000x1500 with 0 Axes>"
      ]
     },
     "metadata": {},
     "output_type": "display_data"
    },
    {
     "data": {
      "text/plain": [
       "<Figure size 2000x1500 with 0 Axes>"
      ]
     },
     "metadata": {},
     "output_type": "display_data"
    },
    {
     "data": {
      "text/plain": [
       "<Figure size 2000x1500 with 0 Axes>"
      ]
     },
     "metadata": {},
     "output_type": "display_data"
    },
    {
     "data": {
      "text/plain": [
       "<Figure size 2000x1500 with 0 Axes>"
      ]
     },
     "metadata": {},
     "output_type": "display_data"
    },
    {
     "data": {
      "text/plain": [
       "<Figure size 2000x1500 with 0 Axes>"
      ]
     },
     "metadata": {},
     "output_type": "display_data"
    },
    {
     "data": {
      "text/plain": [
       "<Figure size 2000x1500 with 0 Axes>"
      ]
     },
     "metadata": {},
     "output_type": "display_data"
    },
    {
     "data": {
      "text/plain": [
       "<Figure size 2000x1500 with 0 Axes>"
      ]
     },
     "metadata": {},
     "output_type": "display_data"
    },
    {
     "data": {
      "text/plain": [
       "<Figure size 2000x1500 with 0 Axes>"
      ]
     },
     "metadata": {},
     "output_type": "display_data"
    },
    {
     "data": {
      "text/plain": [
       "<Figure size 2000x1500 with 0 Axes>"
      ]
     },
     "metadata": {},
     "output_type": "display_data"
    },
    {
     "data": {
      "text/plain": [
       "<Figure size 2000x1500 with 0 Axes>"
      ]
     },
     "metadata": {},
     "output_type": "display_data"
    },
    {
     "data": {
      "text/plain": [
       "<Figure size 2000x1500 with 0 Axes>"
      ]
     },
     "metadata": {},
     "output_type": "display_data"
    },
    {
     "data": {
      "text/plain": [
       "<Figure size 2000x1500 with 0 Axes>"
      ]
     },
     "metadata": {},
     "output_type": "display_data"
    },
    {
     "data": {
      "text/plain": [
       "<Figure size 2000x1500 with 0 Axes>"
      ]
     },
     "metadata": {},
     "output_type": "display_data"
    },
    {
     "data": {
      "text/plain": [
       "<Figure size 2000x1500 with 0 Axes>"
      ]
     },
     "metadata": {},
     "output_type": "display_data"
    },
    {
     "data": {
      "text/plain": [
       "<Figure size 2000x1500 with 0 Axes>"
      ]
     },
     "metadata": {},
     "output_type": "display_data"
    },
    {
     "data": {
      "text/plain": [
       "<Figure size 2000x1500 with 0 Axes>"
      ]
     },
     "metadata": {},
     "output_type": "display_data"
    },
    {
     "data": {
      "text/plain": [
       "<Figure size 2000x1500 with 0 Axes>"
      ]
     },
     "metadata": {},
     "output_type": "display_data"
    },
    {
     "data": {
      "text/plain": [
       "<Figure size 2000x1500 with 0 Axes>"
      ]
     },
     "metadata": {},
     "output_type": "display_data"
    },
    {
     "data": {
      "text/plain": [
       "<Figure size 2000x1500 with 0 Axes>"
      ]
     },
     "metadata": {},
     "output_type": "display_data"
    },
    {
     "data": {
      "text/plain": [
       "<Figure size 2000x1500 with 0 Axes>"
      ]
     },
     "metadata": {},
     "output_type": "display_data"
    },
    {
     "data": {
      "text/plain": [
       "<Figure size 2000x1500 with 0 Axes>"
      ]
     },
     "metadata": {},
     "output_type": "display_data"
    },
    {
     "data": {
      "text/plain": [
       "<Figure size 2000x1500 with 0 Axes>"
      ]
     },
     "metadata": {},
     "output_type": "display_data"
    },
    {
     "data": {
      "text/plain": [
       "<Figure size 2000x1500 with 0 Axes>"
      ]
     },
     "metadata": {},
     "output_type": "display_data"
    },
    {
     "data": {
      "text/plain": [
       "<Figure size 2000x1500 with 0 Axes>"
      ]
     },
     "metadata": {},
     "output_type": "display_data"
    },
    {
     "data": {
      "text/plain": [
       "<Figure size 2000x1500 with 0 Axes>"
      ]
     },
     "metadata": {},
     "output_type": "display_data"
    },
    {
     "data": {
      "text/plain": [
       "<Figure size 2000x1500 with 0 Axes>"
      ]
     },
     "metadata": {},
     "output_type": "display_data"
    },
    {
     "data": {
      "text/plain": [
       "<Figure size 2000x1500 with 0 Axes>"
      ]
     },
     "metadata": {},
     "output_type": "display_data"
    },
    {
     "data": {
      "text/plain": [
       "<Figure size 2000x1500 with 0 Axes>"
      ]
     },
     "metadata": {},
     "output_type": "display_data"
    },
    {
     "data": {
      "text/plain": [
       "<Figure size 2000x1500 with 0 Axes>"
      ]
     },
     "metadata": {},
     "output_type": "display_data"
    },
    {
     "data": {
      "text/plain": [
       "<Figure size 2000x1500 with 0 Axes>"
      ]
     },
     "metadata": {},
     "output_type": "display_data"
    },
    {
     "data": {
      "text/plain": [
       "<Figure size 2000x1500 with 0 Axes>"
      ]
     },
     "metadata": {},
     "output_type": "display_data"
    }
   ],
   "source": [
    "def main():\n",
    "    channels_df, playlists_df, videos_df = load_data()\n",
    "\n",
    "    # Calculate average engagement rate for videos\n",
    "    avg_engagement_rate = calculate_average_engagement_rate(videos_df)\n",
    "\n",
    "    # Find popular video categories\n",
    "    popular_video_categories = find_popular_video_categories(videos_df)\n",
    "\n",
    "    # Find patterns in video upload frequency\n",
    "    upload_frequency = find_upload_frequency(videos_df)\n",
    "\n",
    "    # Save the results to CSV files\n",
    "    popular_video_categories.to_csv(r\"Datasets/popular_video_categories.csv\")\n",
    "    upload_frequency.to_csv(r\"Datasets/upload_frequency.csv\")\n",
    "\n",
    "\n",
    "    # Create the channels_data dictionary\n",
    "    channels_data = {}\n",
    "    # Group videos by channel_title\n",
    "    grouped_videos = videos_df.groupby(\"channel_title\")\n",
    "    for channel_title, group in grouped_videos:\n",
    "        channels_data[channel_title] = {\"videos\": group} \n",
    "    for statistic_name in [\"view_count\", \"likes\", \"comments\"]:\n",
    "        analyze_statistics_per_channel(channels_data, statistic_name)\n",
    "\n",
    "    # Apply the functions to the grouped data\n",
    "    for channel_title, data in channels_data.items():\n",
    "        for statistic_name in [\"view_count\", \"likes\", \"dislikes\", \"comments\"]:\n",
    "            plot_channel_statistics(data[\"videos\"], channel_title, statistic_name)\n",
    "            plot_video_category_statistics(data[\"videos\"], channel_title, statistic_name)\n",
    "\n",
    "    for statistic_name in [\"view_count\", \"likes\", \"dislikes\", \"comments\"]:\n",
    "        plot_comparison_statistics(channels_data, statistic_name)\n",
    "\n",
    "    # Calculate channel engagement rates and save the results to a CSV file\n",
    "    channel_engagement_rates = {channel_title: calculate_average_engagement_rate(data[\"videos\"]) for channel_title, data in channels_data.items()}\n",
    "    channel_engagement_rates_df = pd.Series(channel_engagement_rates).to_frame(\"avg_engagement_rate\")\n",
    "    channel_engagement_rates_df.to_csv(r\"Datasets/channel_engagement_rates.csv\")\n",
    "\n",
    "\n",
    "    # Bar chart comparing average engagement rates between channels\n",
    "    plt.figure(figsize=figure_size, dpi=dpi)\n",
    "    plt.bar(channel_engagement_rates_df.index, channel_engagement_rates_df[\"avg_engagement_rate\"])\n",
    "    plt.title(\"Average Engagement Rates for Channels\")\n",
    "    plt.xlabel(\"Channel Title\")\n",
    "    plt.ylabel(\"Average Engagement Rate\")\n",
    "    plt.xticks(rotation=90)\n",
    "    plt.savefig(\"channel_engagement_rates_comparison.png\", dpi=dpi)\n",
    "    plt.clf()\n",
    "    # Calculate average video length for each channel\n",
    "    channel_avg_video_lengths = {channel_title: calculate_average_video_length(data[\"videos\"]) for channel_title, data in channels_data.items()}\n",
    "    channel_avg_video_lengths_df = pd.Series(channel_avg_video_lengths).to_frame(\"avg_video_length\")\n",
    "    channel_avg_video_lengths_df.to_csv(r\"Datasets/channel_avg_video_lengths.csv\")\n",
    "\n",
    "    # Plot video length distribution for each channel\n",
    "    for channel_title, data in channels_data.items():\n",
    "        plot_video_length_distribution(data[\"videos\"], channel_title)\n",
    "if __name__ == \"__main__\":\n",
    "    main()"
   ]
  },
  {
   "cell_type": "code",
   "execution_count": null,
   "metadata": {},
   "outputs": [],
   "source": []
  }
 ],
 "metadata": {
  "kernelspec": {
   "display_name": "project",
   "language": "python",
   "name": "python3"
  },
  "language_info": {
   "codemirror_mode": {
    "name": "ipython",
    "version": 3
   },
   "file_extension": ".py",
   "mimetype": "text/x-python",
   "name": "python",
   "nbconvert_exporter": "python",
   "pygments_lexer": "ipython3",
   "version": "3.10.11"
  },
  "orig_nbformat": 4
 },
 "nbformat": 4,
 "nbformat_minor": 2
}
